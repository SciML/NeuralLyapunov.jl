{
 "cells": [
  {
   "cell_type": "markdown",
   "metadata": {},
   "source": [
    "# Neural Lyapunov for a damped harmonic oscillator\n",
    "\n",
    "In this notebook we attempt to discover a neural Lyapunov function for the damped harmonic oscillator system, which has dynamics given by\n",
    "$$ \\ddot{x} + 2 \\zeta \\omega_0 \\dot{x} + \\omega_0^2 x = 0, $$\n",
    "where the natural frequency is $\\omega_0 > 0$ and the damping constant is $\\zeta > 0$.\n",
    "\n",
    "Consider $V(x, \\dot{x}) = \\frac{1}{2} \\dot{x}^2 + \\frac{1}{2} \\omega_0^2 x^2$.\n",
    "Then, $V > 0 \\forall x, \\dot{x},$ except the fixed point at the origin, $V(0,0) = 0$, and \n",
    "$$  \\begin{align*}\n",
    "        \\dot{V} &= \\dot{x} \\ddot{x} + \\omega_0^2 x \\dot{x}, \\\\\n",
    "                &= \\dot{x} \\left( -2 \\zeta \\omega_0 \\dot{x} - \\omega_0^2 x + \\omega_0^2 x \\right) \\\\\n",
    "                &= -2 \\zeta \\omega_0 \\dot{x}^2,\n",
    "    \\end{align*}\n",
    "$$\n",
    "is nonpositive for all $(x, \\dot{x})$, thus satisfying the Lyapunov condition and showing that $(x, \\dot{x}) = 0$ is a stable equilibrium in the sense of Lyapunov (i.s.L.).\n",
    "Additionally, since $\\sqrt{x^2 + \\dot{x}^2} \\to \\infty \\implies V(x, \\dot{x}) \\to \\infty$, LaSalle's theorem guarantees asymptotic convergence to the largest invariant set with $\\dot{V} = 0$, which is just the fixed point at the origin.\n",
    "\n",
    "We hope to find a neural network that can similarly show this equilibrium to be stable.\n",
    "Note that the system is actually globally, exponentially stable, which is stronger than asymptotically stable, which is stronger than stable i.s.L.\n",
    "Ability to prove these stronger versions of stability is also desirable."
   ]
  },
  {
   "cell_type": "markdown",
   "metadata": {},
   "source": [
    "# Simulation\n",
    "\n",
    "First, let's try to just simulate a pendulum."
   ]
  },
  {
   "cell_type": "code",
   "execution_count": 1,
   "metadata": {},
   "outputs": [],
   "source": [
    "using ModelingToolkit"
   ]
  },
  {
   "cell_type": "code",
   "execution_count": 2,
   "metadata": {},
   "outputs": [
    {
     "data": {
      "text/latex": [
       "\\begin{align}\n",
       "\\mathrm{\\frac{d}{d t}}\\left( \\frac{dx(t)}{dt} \\right) =&  - \\omega_{0}^{2} x\\left( t \\right) - 2 \\zeta \\omega_{0} \\frac{dx(t)}{dt}\n",
       "\\end{align}\n"
      ],
      "text/plain": [
       "\u001b[0m\u001b[1mModel damped_sho with 1 equations\u001b[22m\n",
       "\u001b[0m\u001b[1mStates (1):\u001b[22m\n",
       "  x(t)\n",
       "\u001b[0m\u001b[1mParameters (2):\u001b[22m\n",
       "  ζ\n",
       "  ω_0"
      ]
     },
     "metadata": {},
     "output_type": "display_data"
    }
   ],
   "source": [
    "# Set up the ODE\n",
    "@variables t x(t)\n",
    "@parameters ζ ω_0\n",
    "Dt = Differential(t)\n",
    "DDt = Dt^2\n",
    "\n",
    "@named damped_sho = ODESystem(DDt(x) ~ -2ζ*ω_0*Dt(x) - ω_0^2*x , t )"
   ]
  },
  {
   "cell_type": "code",
   "execution_count": 22,
   "metadata": {},
   "outputs": [],
   "source": [
    "using DifferentialEquations"
   ]
  },
  {
   "cell_type": "code",
   "execution_count": 23,
   "metadata": {},
   "outputs": [
    {
     "data": {
      "text/latex": [
       "\\begin{align}\n",
       "\\frac{dxˍt(t)}{dt} =&  - \\omega_{0}^{2} x\\left( t \\right) - 2 \\zeta \\omega_{0} \\mathrm{xˍt}\\left( t \\right) \\\\\n",
       "\\frac{dx(t)}{dt} =& \\mathrm{xˍt}\\left( t \\right)\n",
       "\\end{align}\n"
      ],
      "text/plain": [
       "\u001b[0m\u001b[1mModel damped_sho with 2 equations\u001b[22m\n",
       "\u001b[0m\u001b[1mStates (2):\u001b[22m\n",
       "  xˍt(t)\n",
       "  x(t)\n",
       "\u001b[0m\u001b[1mParameters (2):\u001b[22m\n",
       "  ζ\n",
       "  ω_0\n",
       "\u001b[35mIncidence matrix:\u001b[39msparse([1, 2, 1, 2, 1], [1, 2, 3, 3, 4], Num[×, ×, ×, ×, ×], 2, 4)"
      ]
     },
     "metadata": {},
     "output_type": "display_data"
    }
   ],
   "source": [
    "damped_sho_simplified = structural_simplify(damped_sho)"
   ]
  },
  {
   "cell_type": "code",
   "execution_count": 32,
   "metadata": {},
   "outputs": [
    {
     "data": {
      "text/plain": [
       "\u001b[36mODEProblem\u001b[0m with uType \u001b[36mVector{Float64}\u001b[0m and tType \u001b[36mFloat64\u001b[0m. In-place: \u001b[36mtrue\u001b[0m\n",
       "timespan: (0.0, 25.0)\n",
       "u0: 2-element Vector{Float64}:\n",
       " -10.0\n",
       "   1.0"
      ]
     },
     "metadata": {},
     "output_type": "display_data"
    }
   ],
   "source": [
    "prob = ODEProblem(damped_sho_simplified, [x => 1, Dt(x) => -10.0], (0.0, 25.0), [ζ => 0.1, ω_0 => 2])"
   ]
  },
  {
   "cell_type": "code",
   "execution_count": 33,
   "metadata": {},
   "outputs": [],
   "source": [
    "using Plots"
   ]
  },
  {
   "cell_type": "code",
   "execution_count": 34,
   "metadata": {},
   "outputs": [],
   "source": [
    "sol = solve(prob);"
   ]
  },
  {
   "cell_type": "code",
   "execution_count": 35,
   "metadata": {},
   "outputs": [
    {
     "data": {
      "image/png": "[encoded data removed]",
      "image/svg+xml": "<?xml version=\"1.0\" encoding=\"utf-8\"?>\n<svg xmlns=\"http://www.w3.org/2000/svg\" xmlns:xlink=\"http://www.w3.org/1999/xlink\" width=\"600\" height=\"400\" viewBox=\"0 0 2400 1600\">\n<defs>\n  <clipPath id=\"clip030\">\n    <rect x=\"0\" y=\"0\" width=\"2400\" height=\"1600\"/>\n  </clipPath>\n</defs>\n<path clip-path=\"url(#clip030)\" d=\"\nM0 1600 L2400 1600 L2400 0 L0 0  Z\n  \" fill=\"#ffffff\" fill-rule=\"evenodd\" fill-opacity=\"1\"/>\n<defs>\n  <clipPath id=\"clip031\">\n    <rect x=\"480\" y=\"0\" width=\"1681\" height=\"1600\"/>\n  </clipPath>\n</defs>\n<path clip-path=\"url(#clip030)\" d=\"\nM149.191 1423.18 L2352.76 1423.18 L2352.76 47.2441 L149.191 47.2441  Z\n  \" fill=\"#ffffff\" fill-rule=\"evenodd\" fill-opacity=\"1\"/>\n<defs>\n  <clipPath id=\"clip032\">\n    <rect x=\"149\" y=\"47\" width=\"2205\" height=\"1377\"/>\n  </clipPath>\n</defs>\n<polyline clip-path=\"url(#clip032)\" style=\"stroke:#000000; stroke-linecap:butt; stroke-linejoin:round; stroke-width:2; stroke-opacity:0.1; fill:none\" points=\"\n  149.191,1423.18 149.191,47.2441 \n  \"/>\n<polyline clip-path=\"url(#clip032)\" style=\"stroke:#000000; stroke-linecap:butt; stroke-linejoin:round; stroke-width:2; stroke-opacity:0.1; fill:none\" points=\"\n  589.904,1423.18 589.904,47.2441 \n  \"/>\n<polyline clip-path=\"url(#clip032)\" style=\"stroke:#000000; stroke-linecap:butt; stroke-linejoin:round; stroke-width:2; stroke-opacity:0.1; fill:none\" points=\"\n  1030.62,1423.18 1030.62,47.2441 \n  \"/>\n<polyline clip-path=\"url(#clip032)\" style=\"stroke:#000000; stroke-linecap:butt; stroke-linejoin:round; stroke-width:2; stroke-opacity:0.1; fill:none\" points=\"\n  1471.33,1423.18 1471.33,47.2441 \n  \"/>\n<polyline clip-path=\"url(#clip032)\" style=\"stroke:#000000; stroke-linecap:butt; stroke-linejoin:round; stroke-width:2; stroke-opacity:0.1; fill:none\" points=\"\n  1912.04,1423.18 1912.04,47.2441 \n  \"/>\n<polyline clip-path=\"url(#clip032)\" style=\"stroke:#000000; stroke-linecap:butt; stroke-linejoin:round; stroke-width:2; stroke-opacity:0.1; fill:none\" points=\"\n  2352.76,1423.18 2352.76,47.2441 \n  \"/>\n<polyline clip-path=\"url(#clip030)\" style=\"stroke:#000000; stroke-linecap:butt; stroke-linejoin:round; stroke-width:4; stroke-opacity:1; fill:none\" points=\"\n  149.191,1423.18 2352.76,1423.18 \n  \"/>\n<polyline clip-path=\"url(#clip030)\" style=\"stroke:#000000; stroke-linecap:butt; stroke-linejoin:round; stroke-width:4; stroke-opacity:1; fill:none\" points=\"\n  149.191,1423.18 149.191,1404.28 \n  \"/>\n<polyline clip-path=\"url(#clip030)\" style=\"stroke:#000000; stroke-linecap:butt; stroke-linejoin:round; stroke-width:4; stroke-opacity:1; fill:none\" points=\"\n  589.904,1423.18 589.904,1404.28 \n  \"/>\n<polyline clip-path=\"url(#clip030)\" style=\"stroke:#000000; stroke-linecap:butt; stroke-linejoin:round; stroke-width:4; stroke-opacity:1; fill:none\" points=\"\n  1030.62,1423.18 1030.62,1404.28 \n  \"/>\n<polyline clip-path=\"url(#clip030)\" style=\"stroke:#000000; stroke-linecap:butt; stroke-linejoin:round; stroke-width:4; stroke-opacity:1; fill:none\" points=\"\n  1471.33,1423.18 1471.33,1404.28 \n  \"/>\n<polyline clip-path=\"url(#clip030)\" style=\"stroke:#000000; stroke-linecap:butt; stroke-linejoin:round; stroke-width:4; stroke-opacity:1; fill:none\" points=\"\n  1912.04,1423.18 1912.04,1404.28 \n  \"/>\n<polyline clip-path=\"url(#clip030)\" style=\"stroke:#000000; stroke-linecap:butt; stroke-linejoin:round; stroke-width:4; stroke-opacity:1; fill:none\" points=\"\n  2352.76,1423.18 2352.76,1404.28 \n  \"/>\n<path clip-path=\"url(#clip030)\" d=\"M149.191 1454.1 Q145.58 1454.1 143.751 1457.66 Q141.946 1461.2 141.946 1468.33 Q141.946 1475.44 143.751 1479.01 Q145.58 1482.55 149.191 1482.55 Q152.825 1482.55 154.631 1479.01 Q156.459 1475.44 156.459 1468.33 Q156.459 1461.2 154.631 1457.66 Q152.825 1454.1 149.191 1454.1 M149.191 1450.39 Q155.001 1450.39 158.057 1455 Q161.135 1459.58 161.135 1468.33 Q161.135 1477.06 158.057 1481.67 Q155.001 1486.25 149.191 1486.25 Q143.381 1486.25 140.302 1481.67 Q137.246 1477.06 137.246 1468.33 Q137.246 1459.58 140.302 1455 Q143.381 1450.39 149.191 1450.39 Z\" fill=\"#000000\" fill-rule=\"evenodd\" fill-opacity=\"1\" /><path clip-path=\"url(#clip030)\" d=\"M580.182 1451.02 L598.538 1451.02 L598.538 1454.96 L584.464 1454.96 L584.464 1463.43 Q585.483 1463.08 586.501 1462.92 Q587.52 1462.73 588.538 1462.73 Q594.325 1462.73 597.705 1465.9 Q601.084 1469.08 601.084 1474.49 Q601.084 1480.07 597.612 1483.17 Q594.14 1486.25 587.821 1486.25 Q585.645 1486.25 583.376 1485.88 Q581.131 1485.51 578.723 1484.77 L578.723 1480.07 Q580.807 1481.2 583.029 1481.76 Q585.251 1482.32 587.728 1482.32 Q591.733 1482.32 594.071 1480.21 Q596.408 1478.1 596.408 1474.49 Q596.408 1470.88 594.071 1468.77 Q591.733 1466.67 587.728 1466.67 Q585.853 1466.67 583.978 1467.08 Q582.126 1467.5 580.182 1468.38 L580.182 1451.02 Z\" fill=\"#000000\" fill-rule=\"evenodd\" fill-opacity=\"1\" /><path clip-path=\"url(#clip030)\" d=\"M1005.3 1481.64 L1012.94 1481.64 L1012.94 1455.28 L1004.63 1456.95 L1004.63 1452.69 L1012.9 1451.02 L1017.57 1451.02 L1017.57 1481.64 L1025.21 1481.64 L1025.21 1485.58 L1005.3 1485.58 L1005.3 1481.64 Z\" fill=\"#000000\" fill-rule=\"evenodd\" fill-opacity=\"1\" /><path clip-path=\"url(#clip030)\" d=\"M1044.66 1454.1 Q1041.05 1454.1 1039.22 1457.66 Q1037.41 1461.2 1037.41 1468.33 Q1037.41 1475.44 1039.22 1479.01 Q1041.05 1482.55 1044.66 1482.55 Q1048.29 1482.55 1050.1 1479.01 Q1051.92 1475.44 1051.92 1468.33 Q1051.92 1461.2 1050.1 1457.66 Q1048.29 1454.1 1044.66 1454.1 M1044.66 1450.39 Q1050.47 1450.39 1053.52 1455 Q1056.6 1459.58 1056.6 1468.33 Q1056.6 1477.06 1053.52 1481.67 Q1050.47 1486.25 1044.66 1486.25 Q1038.85 1486.25 1035.77 1481.67 Q1032.71 1477.06 1032.71 1468.33 Q1032.71 1459.58 1035.77 1455 Q1038.85 1450.39 1044.66 1450.39 Z\" fill=\"#000000\" fill-rule=\"evenodd\" fill-opacity=\"1\" /><path clip-path=\"url(#clip030)\" d=\"M1446.52 1481.64 L1454.15 1481.64 L1454.15 1455.28 L1445.84 1456.95 L1445.84 1452.69 L1454.11 1451.02 L1458.78 1451.02 L1458.78 1481.64 L1466.42 1481.64 L1466.42 1485.58 L1446.52 1485.58 L1446.52 1481.64 Z\" fill=\"#000000\" fill-rule=\"evenodd\" fill-opacity=\"1\" /><path clip-path=\"url(#clip030)\" d=\"M1475.91 1451.02 L1494.27 1451.02 L1494.27 1454.96 L1480.2 1454.96 L1480.2 1463.43 Q1481.21 1463.08 1482.23 1462.92 Q1483.25 1462.73 1484.27 1462.73 Q1490.06 1462.73 1493.44 1465.9 Q1496.82 1469.08 1496.82 1474.49 Q1496.82 1480.07 1493.34 1483.17 Q1489.87 1486.25 1483.55 1486.25 Q1481.38 1486.25 1479.11 1485.88 Q1476.86 1485.51 1474.45 1484.77 L1474.45 1480.07 Q1476.54 1481.2 1478.76 1481.76 Q1480.98 1482.32 1483.46 1482.32 Q1487.46 1482.32 1489.8 1480.21 Q1492.14 1478.1 1492.14 1474.49 Q1492.14 1470.88 1489.8 1468.77 Q1487.46 1466.67 1483.46 1466.67 Q1481.58 1466.67 1479.71 1467.08 Q1477.86 1467.5 1475.91 1468.38 L1475.91 1451.02 Z\" fill=\"#000000\" fill-rule=\"evenodd\" fill-opacity=\"1\" /><path clip-path=\"url(#clip030)\" d=\"M1890.82 1481.64 L1907.14 1481.64 L1907.14 1485.58 L1885.19 1485.58 L1885.19 1481.64 Q1887.85 1478.89 1892.44 1474.26 Q1897.04 1469.61 1898.22 1468.27 Q1900.47 1465.74 1901.35 1464.01 Q1902.25 1462.25 1902.25 1460.56 Q1902.25 1457.8 1900.31 1456.07 Q1898.39 1454.33 1895.28 1454.33 Q1893.08 1454.33 1890.63 1455.09 Q1888.2 1455.86 1885.42 1457.41 L1885.42 1452.69 Q1888.25 1451.55 1890.7 1450.97 Q1893.15 1450.39 1895.19 1450.39 Q1900.56 1450.39 1903.76 1453.08 Q1906.95 1455.77 1906.95 1460.26 Q1906.95 1462.39 1906.14 1464.31 Q1905.35 1466.2 1903.25 1468.8 Q1902.67 1469.47 1899.57 1472.69 Q1896.46 1475.88 1890.82 1481.64 Z\" fill=\"#000000\" fill-rule=\"evenodd\" fill-opacity=\"1\" /><path clip-path=\"url(#clip030)\" d=\"M1926.95 1454.1 Q1923.34 1454.1 1921.51 1457.66 Q1919.7 1461.2 1919.7 1468.33 Q1919.7 1475.44 1921.51 1479.01 Q1923.34 1482.55 1926.95 1482.55 Q1930.58 1482.55 1932.39 1479.01 Q1934.22 1475.44 1934.22 1468.33 Q1934.22 1461.2 1932.39 1457.66 Q1930.58 1454.1 1926.95 1454.1 M1926.95 1450.39 Q1932.76 1450.39 1935.82 1455 Q1938.89 1459.58 1938.89 1468.33 Q1938.89 1477.06 1935.82 1481.67 Q1932.76 1486.25 1926.95 1486.25 Q1921.14 1486.25 1918.06 1481.67 Q1915.01 1477.06 1915.01 1468.33 Q1915.01 1459.58 1918.06 1455 Q1921.14 1450.39 1926.95 1450.39 Z\" fill=\"#000000\" fill-rule=\"evenodd\" fill-opacity=\"1\" /><path clip-path=\"url(#clip030)\" d=\"M2332.03 1481.64 L2348.35 1481.64 L2348.35 1485.58 L2326.4 1485.58 L2326.4 1481.64 Q2329.06 1478.89 2333.65 1474.26 Q2338.25 1469.61 2339.43 1468.27 Q2341.68 1465.74 2342.56 1464.01 Q2343.46 1462.25 2343.46 1460.56 Q2343.46 1457.8 2341.52 1456.07 Q2339.6 1454.33 2336.49 1454.33 Q2334.3 1454.33 2331.84 1455.09 Q2329.41 1455.86 2326.63 1457.41 L2326.63 1452.69 Q2329.46 1451.55 2331.91 1450.97 Q2334.36 1450.39 2336.4 1450.39 Q2341.77 1450.39 2344.97 1453.08 Q2348.16 1455.77 2348.16 1460.26 Q2348.16 1462.39 2347.35 1464.31 Q2346.56 1466.2 2344.46 1468.8 Q2343.88 1469.47 2340.78 1472.69 Q2337.67 1475.88 2332.03 1481.64 Z\" fill=\"#000000\" fill-rule=\"evenodd\" fill-opacity=\"1\" /><path clip-path=\"url(#clip030)\" d=\"M2358.21 1451.02 L2376.56 1451.02 L2376.56 1454.96 L2362.49 1454.96 L2362.49 1463.43 Q2363.51 1463.08 2364.53 1462.92 Q2365.55 1462.73 2366.56 1462.73 Q2372.35 1462.73 2375.73 1465.9 Q2379.11 1469.08 2379.11 1474.49 Q2379.11 1480.07 2375.64 1483.17 Q2372.17 1486.25 2365.85 1486.25 Q2363.67 1486.25 2361.4 1485.88 Q2359.16 1485.51 2356.75 1484.77 L2356.75 1480.07 Q2358.83 1481.2 2361.05 1481.76 Q2363.28 1482.32 2365.75 1482.32 Q2369.76 1482.32 2372.1 1480.21 Q2374.43 1478.1 2374.43 1474.49 Q2374.43 1470.88 2372.1 1468.77 Q2369.76 1466.67 2365.75 1466.67 Q2363.88 1466.67 2362 1467.08 Q2360.15 1467.5 2358.21 1468.38 L2358.21 1451.02 Z\" fill=\"#000000\" fill-rule=\"evenodd\" fill-opacity=\"1\" /><path clip-path=\"url(#clip030)\" d=\"M1250.03 1522.27 L1250.03 1532.4 L1262.1 1532.4 L1262.1 1536.95 L1250.03 1536.95 L1250.03 1556.3 Q1250.03 1560.66 1251.21 1561.9 Q1252.42 1563.14 1256.08 1563.14 L1262.1 1563.14 L1262.1 1568.04 L1256.08 1568.04 Q1249.3 1568.04 1246.72 1565.53 Q1244.15 1562.98 1244.15 1556.3 L1244.15 1536.95 L1239.85 1536.95 L1239.85 1532.4 L1244.15 1532.4 L1244.15 1522.27 L1250.03 1522.27 Z\" fill=\"#000000\" fill-rule=\"evenodd\" fill-opacity=\"1\" /><polyline clip-path=\"url(#clip032)\" style=\"stroke:#000000; stroke-linecap:butt; stroke-linejoin:round; stroke-width:2; stroke-opacity:0.1; fill:none\" points=\"\n  149.191,1344.1 2352.76,1344.1 \n  \"/>\n<polyline clip-path=\"url(#clip032)\" style=\"stroke:#000000; stroke-linecap:butt; stroke-linejoin:round; stroke-width:2; stroke-opacity:0.1; fill:none\" points=\"\n  149.191,988.855 2352.76,988.855 \n  \"/>\n<polyline clip-path=\"url(#clip032)\" style=\"stroke:#000000; stroke-linecap:butt; stroke-linejoin:round; stroke-width:2; stroke-opacity:0.1; fill:none\" points=\"\n  149.191,633.614 2352.76,633.614 \n  \"/>\n<polyline clip-path=\"url(#clip032)\" style=\"stroke:#000000; stroke-linecap:butt; stroke-linejoin:round; stroke-width:2; stroke-opacity:0.1; fill:none\" points=\"\n  149.191,278.372 2352.76,278.372 \n  \"/>\n<polyline clip-path=\"url(#clip030)\" style=\"stroke:#000000; stroke-linecap:butt; stroke-linejoin:round; stroke-width:4; stroke-opacity:1; fill:none\" points=\"\n  149.191,1423.18 149.191,47.2441 \n  \"/>\n<polyline clip-path=\"url(#clip030)\" style=\"stroke:#000000; stroke-linecap:butt; stroke-linejoin:round; stroke-width:4; stroke-opacity:1; fill:none\" points=\"\n  149.191,1344.1 168.089,1344.1 \n  \"/>\n<polyline clip-path=\"url(#clip030)\" style=\"stroke:#000000; stroke-linecap:butt; stroke-linejoin:round; stroke-width:4; stroke-opacity:1; fill:none\" points=\"\n  149.191,988.855 168.089,988.855 \n  \"/>\n<polyline clip-path=\"url(#clip030)\" style=\"stroke:#000000; stroke-linecap:butt; stroke-linejoin:round; stroke-width:4; stroke-opacity:1; fill:none\" points=\"\n  149.191,633.614 168.089,633.614 \n  \"/>\n<polyline clip-path=\"url(#clip030)\" style=\"stroke:#000000; stroke-linecap:butt; stroke-linejoin:round; stroke-width:4; stroke-opacity:1; fill:none\" points=\"\n  149.191,278.372 168.089,278.372 \n  \"/>\n<path clip-path=\"url(#clip030)\" d=\"M50.9921 1344.55 L80.6679 1344.55 L80.6679 1348.48 L50.9921 1348.48 L50.9921 1344.55 Z\" fill=\"#000000\" fill-rule=\"evenodd\" fill-opacity=\"1\" /><path clip-path=\"url(#clip030)\" d=\"M103.608 1330.89 L91.8021 1349.34 L103.608 1349.34 L103.608 1330.89 M102.381 1326.82 L108.26 1326.82 L108.26 1349.34 L113.191 1349.34 L113.191 1353.23 L108.26 1353.23 L108.26 1361.38 L103.608 1361.38 L103.608 1353.23 L88.0058 1353.23 L88.0058 1348.71 L102.381 1326.82 Z\" fill=\"#000000\" fill-rule=\"evenodd\" fill-opacity=\"1\" /><path clip-path=\"url(#clip030)\" d=\"M53.0754 989.307 L82.7512 989.307 L82.7512 993.242 L53.0754 993.242 L53.0754 989.307 Z\" fill=\"#000000\" fill-rule=\"evenodd\" fill-opacity=\"1\" /><path clip-path=\"url(#clip030)\" d=\"M96.8715 1002.2 L113.191 1002.2 L113.191 1006.14 L91.2465 1006.14 L91.2465 1002.2 Q93.9086 999.446 98.4919 994.816 Q103.098 990.163 104.279 988.821 Q106.524 986.297 107.404 984.561 Q108.307 982.802 108.307 981.112 Q108.307 978.358 106.362 976.622 Q104.441 974.885 101.339 974.885 Q99.14 974.885 96.6863 975.649 Q94.2558 976.413 91.478 977.964 L91.478 973.242 Q94.3021 972.108 96.7558 971.529 Q99.2095 970.95 101.246 970.95 Q106.617 970.95 109.811 973.635 Q113.006 976.321 113.006 980.811 Q113.006 982.941 112.196 984.862 Q111.408 986.76 109.302 989.353 Q108.723 990.024 105.621 993.242 Q102.52 996.436 96.8715 1002.2 Z\" fill=\"#000000\" fill-rule=\"evenodd\" fill-opacity=\"1\" /><path clip-path=\"url(#clip030)\" d=\"M101.246 619.412 Q97.6354 619.412 95.8067 622.977 Q94.0012 626.519 94.0012 633.648 Q94.0012 640.755 95.8067 644.32 Q97.6354 647.861 101.246 647.861 Q104.881 647.861 106.686 644.32 Q108.515 640.755 108.515 633.648 Q108.515 626.519 106.686 622.977 Q104.881 619.412 101.246 619.412 M101.246 615.709 Q107.057 615.709 110.112 620.315 Q113.191 624.898 113.191 633.648 Q113.191 642.375 110.112 646.982 Q107.057 651.565 101.246 651.565 Q95.4363 651.565 92.3576 646.982 Q89.3021 642.375 89.3021 633.648 Q89.3021 624.898 92.3576 620.315 Q95.4363 615.709 101.246 615.709 Z\" fill=\"#000000\" fill-rule=\"evenodd\" fill-opacity=\"1\" /><path clip-path=\"url(#clip030)\" d=\"M96.8715 291.717 L113.191 291.717 L113.191 295.652 L91.2465 295.652 L91.2465 291.717 Q93.9086 288.962 98.4919 284.333 Q103.098 279.68 104.279 278.337 Q106.524 275.814 107.404 274.078 Q108.307 272.319 108.307 270.629 Q108.307 267.874 106.362 266.138 Q104.441 264.402 101.339 264.402 Q99.14 264.402 96.6863 265.166 Q94.2558 265.93 91.478 267.481 L91.478 262.759 Q94.3021 261.624 96.7558 261.046 Q99.2095 260.467 101.246 260.467 Q106.617 260.467 109.811 263.152 Q113.006 265.837 113.006 270.328 Q113.006 272.458 112.196 274.379 Q111.408 276.277 109.302 278.87 Q108.723 279.541 105.621 282.759 Q102.52 285.953 96.8715 291.717 Z\" fill=\"#000000\" fill-rule=\"evenodd\" fill-opacity=\"1\" /><polyline clip-path=\"url(#clip032)\" style=\"stroke:#009af9; stroke-linecap:butt; stroke-linejoin:round; stroke-width:4; stroke-opacity:1; fill:none\" points=\"\n  149.191,455.993 151.397,500.424 153.602,544.744 155.808,588.845 158.014,632.618 160.22,675.957 162.425,718.759 164.631,760.923 166.837,802.35 169.043,842.943 \n  171.249,882.61 173.454,921.262 175.66,958.812 177.866,995.178 180.072,1030.28 182.277,1064.05 184.483,1096.4 186.689,1127.28 188.895,1156.62 191.101,1184.37 \n  193.306,1210.47 195.512,1234.87 197.718,1257.53 199.924,1278.41 202.129,1297.47 204.335,1314.69 206.541,1330.04 208.747,1343.5 210.952,1355.06 213.158,1364.71 \n  215.364,1372.43 217.57,1378.25 219.776,1382.14 221.981,1384.14 224.187,1384.24 226.393,1382.47 228.599,1378.85 230.804,1373.41 233.01,1366.18 235.216,1357.2 \n  237.422,1346.5 239.627,1334.14 241.833,1320.15 244.039,1304.59 246.245,1287.52 248.451,1268.98 250.656,1249.04 252.862,1227.77 255.068,1205.23 257.274,1181.49 \n  259.479,1156.63 261.685,1130.7 263.891,1103.8 266.097,1076 268.302,1047.36 270.508,1017.99 272.714,987.94 274.92,957.31 277.126,926.178 279.331,894.629 \n  281.537,862.742 283.743,830.601 285.949,798.29 288.154,765.891 290.36,733.487 292.566,701.158 294.772,668.983 296.978,637.041 299.183,605.407 301.389,574.157 \n  303.595,543.366 305.801,513.107 308.006,483.45 310.212,454.46 312.418,426.204 314.624,398.748 316.829,372.151 319.035,346.472 321.241,321.766 323.447,298.084 \n  325.653,275.474 327.858,253.982 330.064,233.65 332.27,214.516 334.476,196.615 336.681,179.979 338.887,164.637 341.093,150.615 343.299,137.937 345.504,126.622 \n  347.71,116.685 349.916,108.138 352.122,100.987 354.328,95.2373 356.533,90.8881 358.739,87.9355 360.945,86.3719 363.151,86.1857 365.356,87.3619 367.562,89.886 \n  369.768,93.7387 371.974,98.8973 374.179,105.337 376.385,113.028 378.591,121.941 380.797,132.042 383.003,143.294 385.208,155.658 387.414,169.092 389.62,183.551 \n  391.826,198.987 394.031,215.351 396.237,232.591 398.443,250.659 400.649,269.502 402.855,289.063 405.06,309.286 407.266,330.116 409.472,351.493 411.678,373.361 \n  413.883,395.661 416.089,418.334 418.295,441.319 420.501,464.556 422.706,487.985 424.912,511.542 427.118,535.166 429.324,558.801 431.53,582.389 433.735,605.871 \n  435.941,629.187 438.147,652.281 440.353,675.095 442.558,697.578 444.764,719.676 446.97,741.339 449.176,762.517 451.381,783.164 453.587,803.233 455.793,822.681 \n  457.999,841.464 460.205,859.542 462.41,876.878 464.616,893.438 466.822,909.186 469.028,924.091 471.233,938.123 473.439,951.256 475.645,963.464 477.851,974.727 \n  480.056,985.026 482.262,994.345 484.468,1002.67 486.674,1009.99 488.88,1016.31 491.085,1021.61 493.291,1025.89 495.497,1029.15 497.703,1031.4 499.908,1032.63 \n  502.114,1032.86 504.32,1032.1 506.526,1030.34 508.732,1027.62 510.937,1023.93 513.143,1019.31 515.349,1013.77 517.555,1007.33 519.76,1000.03 521.966,991.881 \n  524.172,982.922 526.378,973.185 528.583,962.703 530.789,951.508 532.995,939.632 535.201,927.112 537.407,913.987 539.612,900.294 541.818,886.074 544.024,871.366 \n  546.23,856.211 548.435,840.651 550.641,824.729 552.847,808.487 555.053,791.971 557.258,775.223 559.464,758.291 561.67,741.219 563.876,724.047 566.082,706.818 \n  568.287,689.579 570.493,672.372 572.699,655.242 574.905,638.231 577.11,621.378 579.316,604.726 581.522,588.311 583.728,572.173 585.933,556.348 588.139,540.872 \n  590.345,525.781 592.551,511.107 594.757,496.885 596.962,483.146 599.168,469.919 601.374,457.23 603.58,445.106 605.785,433.571 607.991,422.651 610.197,412.367 \n  612.403,402.737 614.609,393.78 616.814,385.511 619.02,377.944 621.226,371.09 623.432,364.959 625.637,359.558 627.843,354.893 630.049,350.968 632.255,347.783 \n  634.46,345.341 636.666,343.639 638.872,342.675 641.078,342.446 643.284,342.945 645.489,344.165 647.695,346.095 649.901,348.725 652.107,352.042 654.312,356.03 \n  656.518,360.672 658.724,365.951 660.93,371.845 663.135,378.333 665.341,385.39 667.547,392.99 669.753,401.113 671.959,409.734 674.164,418.826 676.37,428.363 \n  678.576,438.315 680.782,448.655 682.987,459.352 685.193,470.378 687.399,481.701 689.605,493.292 691.81,505.118 694.016,517.147 696.222,529.348 698.428,541.686 \n  700.634,554.129 702.839,566.646 705.045,579.208 707.251,591.78 709.457,604.332 711.662,616.83 713.868,629.244 716.074,641.544 718.28,653.702 720.486,665.687 \n  722.691,677.473 724.897,689.032 727.103,700.338 729.309,711.367 731.514,722.092 733.72,732.491 735.926,742.54 738.132,752.217 740.337,761.501 742.543,770.376 \n  744.749,778.823 746.955,786.824 749.161,794.363 751.366,801.425 753.572,807.999 755.778,814.07 757.984,819.631 760.189,824.672 762.395,829.186 764.601,833.167 \n  766.807,836.611 769.012,839.516 771.218,841.88 773.424,843.703 775.63,844.986 777.836,845.732 780.041,845.942 782.247,845.621 784.453,844.775 786.659,843.411 \n  788.864,841.536 791.07,839.16 793.276,836.294 795.482,832.949 797.687,829.138 799.893,824.877 802.099,820.18 804.305,815.064 806.511,809.549 808.716,803.653 \n  810.922,797.395 813.128,790.791 815.334,783.861 817.539,776.626 819.745,769.108 821.951,761.327 824.157,753.306 826.363,745.066 828.568,736.631 830.774,728.021 \n  832.98,719.261 835.186,710.374 837.391,701.384 839.597,692.314 841.803,683.188 844.009,674.032 846.214,664.864 848.42,655.709 850.626,646.59 852.832,637.529 \n  855.038,628.55 857.243,619.674 859.449,610.922 861.655,602.314 863.861,593.87 866.066,585.61 868.272,577.552 870.478,569.714 872.684,562.112 874.889,554.764 \n  877.095,547.685 879.301,540.891 881.507,534.395 883.713,528.212 885.918,522.351 888.124,516.825 890.33,511.645 892.536,506.821 894.741,502.362 896.947,498.275 \n  899.153,494.566 901.359,491.242 903.564,488.307 905.77,485.764 907.976,483.615 910.182,481.861 912.388,480.502 914.593,479.538 916.799,478.966 919.005,478.784 \n  921.211,478.988 923.416,479.575 925.622,480.539 927.828,481.875 930.034,483.577 932.24,485.636 934.445,488.044 936.651,490.792 938.857,493.871 941.063,497.268 \n  943.268,500.973 945.474,504.972 947.68,509.252 949.886,513.799 952.091,518.598 954.297,523.633 956.503,528.892 958.709,534.359 960.915,540.019 963.12,545.856 \n  965.326,551.852 967.532,557.993 969.738,564.26 971.943,570.639 974.149,577.111 976.355,583.66 978.561,590.269 980.766,596.921 982.972,603.598 985.178,610.284 \n  987.384,616.961 989.59,623.612 991.795,630.222 994.001,636.777 996.207,643.258 998.413,649.65 1000.62,655.938 1002.82,662.107 1005.03,668.143 1007.24,674.032 \n  1009.44,679.762 1011.65,685.319 1013.85,690.691 1016.06,695.868 1018.26,700.839 1020.47,705.593 1022.68,710.12 1024.88,714.412 1027.09,718.46 1029.29,722.257 \n  1031.5,725.796 1033.7,729.071 1035.91,732.075 1038.12,734.803 1040.32,737.252 1042.53,739.417 1044.73,741.297 1046.94,742.888 1049.15,744.191 1051.35,745.204 \n  1053.56,745.929 1055.76,746.367 1057.97,746.52 1060.17,746.391 1062.38,745.983 1064.59,745.3 1066.79,744.345 1069,743.125 1071.2,741.645 1073.41,739.91 \n  1075.61,737.927 1077.82,735.704 1080.03,733.248 1082.23,730.567 1084.44,727.671 1086.64,724.567 1088.85,721.268 1091.06,717.782 1093.26,714.121 1095.47,710.296 \n  1097.67,706.32 1099.88,702.203 1102.08,697.956 1104.29,693.591 1106.5,689.121 1108.7,684.556 1110.91,679.911 1113.11,675.197 1115.32,670.426 1117.52,665.611 \n  1119.73,660.764 1121.94,655.897 1124.14,651.022 1126.35,646.152 1128.55,641.299 1130.76,636.475 1132.96,631.693 1135.17,626.964 1137.38,622.297 1139.58,617.705 \n  1141.79,613.197 1143.99,608.786 1146.2,604.481 1148.41,600.292 1150.61,596.228 1152.82,592.298 1155.02,588.511 1157.23,584.874 1159.43,581.395 1161.64,578.081 \n  1163.85,574.938 1166.05,571.972 1168.26,569.19 1170.46,566.595 1172.67,564.193 1174.87,561.987 1177.08,559.981 1179.29,558.177 1181.49,556.58 1183.7,555.191 \n  1185.9,554.012 1188.11,553.043 1190.31,552.285 1192.52,551.739 1194.73,551.402 1196.93,551.274 1199.14,551.353 1201.34,551.636 1203.55,552.121 1205.76,552.803 \n  1207.96,553.679 1210.17,554.745 1212.37,555.996 1214.58,557.428 1216.78,559.036 1218.99,560.813 1221.2,562.754 1223.4,564.852 1225.61,567.101 1227.81,569.494 \n  1230.02,572.024 1232.22,574.682 1234.43,577.461 1236.64,580.353 1238.84,583.348 1241.05,586.439 1243.25,589.616 1245.46,592.87 1247.66,596.194 1249.87,599.578 \n  1252.08,603.013 1254.28,606.49 1256.49,609.999 1258.69,613.532 1260.9,617.08 1263.11,620.633 1265.31,624.184 1267.52,627.723 1269.72,631.242 1271.93,634.732 \n  1274.13,638.185 1276.34,641.592 1278.55,644.946 1280.75,648.237 1282.96,651.459 1285.16,654.604 1287.37,657.667 1289.57,660.639 1291.78,663.514 1293.99,666.285 \n  1296.19,668.947 1298.4,671.495 1300.6,673.922 1302.81,676.224 1305.01,678.397 1307.22,680.436 1309.43,682.339 1311.63,684.101 1313.84,685.721 1316.04,687.194 \n  1318.25,688.52 1320.46,689.696 1322.66,690.722 1324.87,691.595 1327.07,692.315 1329.28,692.881 1331.48,693.294 1333.69,693.553 1335.9,693.66 1338.1,693.616 \n  1340.31,693.422 1342.51,693.08 1344.72,692.593 1346.92,691.964 1349.13,691.196 1351.34,690.293 1353.54,689.258 1355.75,688.095 1357.95,686.808 1360.16,685.402 \n  1362.36,683.88 1364.57,682.249 1366.78,680.513 1368.98,678.677 1371.19,676.747 1373.39,674.728 1375.6,672.627 1377.81,670.449 1380.01,668.201 1382.22,665.889 \n  1384.42,663.519 1386.63,661.099 1388.83,658.635 1391.04,656.132 1393.25,653.599 1395.45,651.041 1397.66,648.465 1399.86,645.878 1402.07,643.286 1404.27,640.696 \n  1406.48,638.115 1408.69,635.548 1410.89,633.002 1413.1,630.482 1415.3,627.995 1417.51,625.547 1419.71,623.143 1421.92,620.788 1424.13,618.49 1426.33,616.252 \n  1428.54,614.08 1430.74,611.978 1432.95,609.95 1435.16,608.002 1437.36,606.137 1439.57,604.359 1441.77,602.672 1443.98,601.08 1446.18,599.584 1448.39,598.188 \n  1450.6,596.895 1452.8,595.706 1455.01,594.623 1457.21,593.648 1459.42,592.783 1461.62,592.027 1463.83,591.382 1466.04,590.848 1468.24,590.426 1470.45,590.115 \n  1472.65,589.917 1474.86,589.829 1477.06,589.851 1479.27,589.983 1481.48,590.222 1483.68,590.568 1485.89,591.018 1488.09,591.57 1490.3,592.222 1492.51,592.97 \n  1494.71,593.812 1496.92,594.744 1499.12,595.763 1501.33,596.866 1503.53,598.05 1505.74,599.31 1507.95,600.644 1510.15,602.046 1512.36,603.512 1514.56,605.039 \n  1516.77,606.623 1518.97,608.258 1521.18,609.94 1523.39,611.664 1525.59,613.426 1527.8,615.221 1530,617.044 1532.21,618.89 1534.41,620.754 1536.62,622.632 \n  1538.83,624.518 1541.03,626.408 1543.24,628.298 1545.44,630.181 1547.65,632.054 1549.86,633.913 1552.06,635.752 1554.27,637.567 1556.47,639.354 1558.68,641.11 \n  1560.88,642.829 1563.09,644.508 1565.3,646.144 1567.5,647.732 1569.71,649.269 1571.91,650.752 1574.12,652.177 1576.32,653.542 1578.53,654.844 1580.74,656.08 \n  1582.94,657.247 1585.15,658.344 1587.35,659.368 1589.56,660.317 1591.76,661.191 1593.97,661.987 1596.18,662.704 1598.38,663.341 1600.59,663.899 1602.79,664.375 \n  1605,664.77 1607.21,665.084 1609.41,665.317 1611.62,665.468 1613.82,665.539 1616.03,665.529 1618.23,665.44 1620.44,665.273 1622.65,665.027 1624.85,664.706 \n  1627.06,664.31 1629.26,663.841 1631.47,663.301 1633.67,662.693 1635.88,662.017 1638.09,661.278 1640.29,660.478 1642.5,659.619 1644.7,658.704 1646.91,657.736 \n  1649.12,656.717 1651.32,655.651 1653.53,654.541 1655.73,653.39 1657.94,652.201 1660.14,650.977 1662.35,649.722 1664.56,648.44 1666.76,647.133 1668.97,645.805 \n  1671.17,644.46 1673.38,643.101 1675.58,641.733 1677.79,640.358 1680,638.979 1682.2,637.601 1684.41,636.227 1686.61,634.86 1688.82,633.503 1691.02,632.161 \n  1693.23,630.836 1695.44,629.53 1697.64,628.248 1699.85,626.993 1702.05,625.766 1704.26,624.571 1706.47,623.41 1708.67,622.286 1710.88,621.202 1713.08,620.159 \n  1715.29,619.16 1717.49,618.207 1719.7,617.302 1721.91,616.446 1724.11,615.642 1726.32,614.891 1728.52,614.194 1730.73,613.552 1732.93,612.967 1735.14,612.439 \n  1737.35,611.969 1739.55,611.559 1741.76,611.207 1743.96,610.914 1746.17,610.681 1748.37,610.507 1750.58,610.392 1752.79,610.336 1754.99,610.339 1757.2,610.399 \n  1759.4,610.517 1761.61,610.691 1763.82,610.92 1766.02,611.204 1768.23,611.541 1770.43,611.93 1772.64,612.37 1774.84,612.858 1777.05,613.393 1779.26,613.973 \n  1781.46,614.597 1783.67,615.261 1785.87,615.965 1788.08,616.705 1790.28,617.48 1792.49,618.287 1794.7,619.124 1796.9,619.989 1799.11,620.88 1801.31,621.793 \n  1803.52,622.726 1805.72,623.678 1807.93,624.645 1810.14,625.624 1812.34,626.614 1814.55,627.612 1816.75,628.615 1818.96,629.62 1821.17,630.624 1823.37,631.627 \n  1825.58,632.624 1827.78,633.614 1829.99,634.595 1832.19,635.562 1834.4,636.516 1836.61,637.452 1838.81,638.37 1841.02,639.266 1843.22,640.14 1845.43,640.988 \n  1847.63,641.81 1849.84,642.603 1852.05,643.365 1854.25,644.096 1856.46,644.794 1858.66,645.456 1860.87,646.083 1863.07,646.672 1865.28,647.224 1867.49,647.735 \n  1869.69,648.207 1871.9,648.637 1874.1,649.026 1876.31,649.372 1878.52,649.675 1880.72,649.935 1882.93,650.152 1885.13,650.326 1887.34,650.456 1889.54,650.542 \n  1891.75,650.586 1893.96,650.587 1896.16,650.546 1898.37,650.464 1900.57,650.34 1902.78,650.176 1904.98,649.972 1907.19,649.729 1909.4,649.449 1911.6,649.132 \n  1913.81,648.779 1916.01,648.392 1918.22,647.972 1920.42,647.52 1922.63,647.038 1924.84,646.527 1927.04,645.989 1929.25,645.426 1931.45,644.839 1933.66,644.23 \n  1935.87,643.6 1938.07,642.952 1940.28,642.287 1942.48,641.608 1944.69,640.915 1946.89,640.211 1949.1,639.497 1951.31,638.776 1953.51,638.049 1955.72,637.319 \n  1957.92,636.586 1960.13,635.853 1962.33,635.122 1964.54,634.394 1966.75,633.671 1968.95,632.956 1971.16,632.25 1973.36,631.553 1975.57,630.869 1977.77,630.199 \n  1979.98,629.543 1982.19,628.905 1984.39,628.285 1986.6,627.684 1988.8,627.104 1991.01,626.546 1993.22,626.011 1995.42,625.501 1997.63,625.015 1999.83,624.556 \n  2002.04,624.125 2004.24,623.721 2006.45,623.345 2008.66,622.999 2010.86,622.683 2013.07,622.397 2015.27,622.142 2017.48,621.918 2019.68,621.725 2021.89,621.564 \n  2024.1,621.435 2026.3,621.337 2028.51,621.272 2030.71,621.237 2032.92,621.234 2035.12,621.262 2037.33,621.32 2039.54,621.408 2041.74,621.526 2043.95,621.673 \n  2046.15,621.847 2048.36,622.05 2050.57,622.279 2052.77,622.534 2054.98,622.814 2057.18,623.118 2059.39,623.445 2061.59,623.795 2063.8,624.166 2066.01,624.556 \n  2068.21,624.965 2070.42,625.392 2072.62,625.835 2074.83,626.294 2077.03,626.765 2079.24,627.249 2081.45,627.744 2083.65,628.249 2085.86,628.762 2088.06,629.281 \n  2090.27,629.807 2092.47,630.337 2094.68,630.869 2096.89,631.403 2099.09,631.938 2101.3,632.471 2103.5,633.002 2105.71,633.529 2107.92,634.051 2110.12,634.567 \n  2112.33,635.075 2114.53,635.575 2116.74,636.064 2118.94,636.543 2121.15,637.01 2123.36,637.464 2125.56,637.903 2127.77,638.327 2129.97,638.736 2132.18,639.127 \n  2134.38,639.501 2136.59,639.856 2138.8,640.192 2141,640.509 2143.21,640.805 2145.41,641.08 2147.62,641.334 2149.82,641.567 2152.03,641.777 2154.24,641.965 \n  2156.44,642.13 2158.65,642.272 2160.85,642.392 2163.06,642.488 2165.27,642.561 2167.47,642.611 2169.68,642.638 2171.88,642.643 2174.09,642.624 2176.29,642.583 \n  2178.5,642.521 2180.71,642.436 2182.91,642.331 2185.12,642.205 2187.32,642.059 2189.53,641.893 2191.73,641.709 2193.94,641.506 2196.15,641.285 2198.35,641.048 \n  2200.56,640.794 2202.76,640.525 2204.97,640.242 2207.18,639.945 2209.38,639.635 2211.59,639.312 2213.79,638.979 2216,638.636 2218.2,638.284 2220.41,637.923 \n  2222.62,637.556 2224.82,637.182 2227.03,636.804 2229.23,636.421 2231.44,636.034 2233.64,635.646 2235.85,635.257 2238.06,634.867 2240.26,634.478 2242.47,634.091 \n  2244.67,633.706 2246.88,633.325 2249.08,632.949 2251.29,632.578 2253.5,632.213 2255.7,631.855 2257.91,631.505 2260.11,631.164 2262.32,630.833 2264.53,630.511 \n  2266.73,630.201 2268.94,629.902 2271.14,629.616 2273.35,629.342 2275.55,629.082 2277.76,628.835 2279.97,628.603 2282.17,628.386 2284.38,628.184 2286.58,627.998 \n  2288.79,627.827 2290.99,627.673 2293.2,627.534 2295.41,627.413 2297.61,627.308 2299.82,627.219 2302.02,627.148 2304.23,627.093 2306.43,627.055 2308.64,627.034 \n  2310.85,627.029 2313.05,627.041 2315.26,627.069 2317.46,627.114 2319.67,627.174 2321.88,627.249 2324.08,627.34 2326.29,627.446 2328.49,627.566 2330.7,627.699 \n  2332.9,627.846 2335.11,628.006 2337.32,628.178 2339.52,628.362 2341.73,628.558 2343.93,628.763 2346.14,628.979 2348.34,629.205 2350.55,629.439 2352.76,629.681 \n  \n  \"/>\n<path clip-path=\"url(#clip030)\" d=\"\nM1956.27 196.789 L2279.3 196.789 L2279.3 93.1086 L1956.27 93.1086  Z\n  \" fill=\"#ffffff\" fill-rule=\"evenodd\" fill-opacity=\"1\"/>\n<polyline clip-path=\"url(#clip030)\" style=\"stroke:#000000; stroke-linecap:butt; stroke-linejoin:round; stroke-width:4; stroke-opacity:1; fill:none\" points=\"\n  1956.27,196.789 2279.3,196.789 2279.3,93.1086 1956.27,93.1086 1956.27,196.789 \n  \"/>\n<polyline clip-path=\"url(#clip030)\" style=\"stroke:#009af9; stroke-linecap:butt; stroke-linejoin:round; stroke-width:4; stroke-opacity:1; fill:none\" points=\"\n  1980.75,144.949 2127.66,144.949 \n  \"/>\n<path clip-path=\"url(#clip030)\" d=\"M2176.79 136.303 L2167.42 148.919 L2177.28 162.229 L2172.26 162.229 L2164.71 152.043 L2157.16 162.229 L2152.14 162.229 L2162.21 148.664 L2153 136.303 L2158.02 136.303 L2164.9 145.539 L2171.77 136.303 L2176.79 136.303 Z\" fill=\"#000000\" fill-rule=\"evenodd\" fill-opacity=\"1\" /><path clip-path=\"url(#clip030)\" d=\"M2193.53 126.257 Q2190.43 131.581 2188.92 136.789 Q2187.42 141.997 2187.42 147.344 Q2187.42 152.692 2188.92 157.946 Q2190.45 163.178 2193.53 168.479 L2189.83 168.479 Q2186.35 163.039 2184.62 157.784 Q2182.91 152.53 2182.91 147.344 Q2182.91 142.182 2184.62 136.951 Q2186.33 131.72 2189.83 126.257 L2193.53 126.257 Z\" fill=\"#000000\" fill-rule=\"evenodd\" fill-opacity=\"1\" /><path clip-path=\"url(#clip030)\" d=\"M2206.01 128.942 L2206.01 136.303 L2214.78 136.303 L2214.78 139.613 L2206.01 139.613 L2206.01 153.687 Q2206.01 156.858 2206.86 157.761 Q2207.74 158.664 2210.41 158.664 L2214.78 158.664 L2214.78 162.229 L2210.41 162.229 Q2205.47 162.229 2203.6 160.4 Q2201.72 158.548 2201.72 153.687 L2201.72 139.613 L2198.6 139.613 L2198.6 136.303 L2201.72 136.303 L2201.72 128.942 L2206.01 128.942 Z\" fill=\"#000000\" fill-rule=\"evenodd\" fill-opacity=\"1\" /><path clip-path=\"url(#clip030)\" d=\"M2219.71 126.257 L2223.41 126.257 Q2226.89 131.72 2228.6 136.951 Q2230.34 142.182 2230.34 147.344 Q2230.34 152.53 2228.6 157.784 Q2226.89 163.039 2223.41 168.479 L2219.71 168.479 Q2222.79 163.178 2224.29 157.946 Q2225.82 152.692 2225.82 147.344 Q2225.82 141.997 2224.29 136.789 Q2222.79 131.581 2219.71 126.257 Z\" fill=\"#000000\" fill-rule=\"evenodd\" fill-opacity=\"1\" /></svg>\n",
      "text/html": [
       "<?xml version=\"1.0\" encoding=\"utf-8\"?>\n",
       "<svg xmlns=\"http://www.w3.org/2000/svg\" xmlns:xlink=\"http://www.w3.org/1999/xlink\" width=\"600\" height=\"400\" viewBox=\"0 0 2400 1600\">\n",
       "<defs>\n",
       "  <clipPath id=\"clip080\">\n",
       "    <rect x=\"0\" y=\"0\" width=\"2400\" height=\"1600\"/>\n",
       "  </clipPath>\n",
       "</defs>\n",
       "<path clip-path=\"url(#clip080)\" d=\"\n",
       "M0 1600 L2400 1600 L2400 0 L0 0  Z\n",
       "  \" fill=\"#ffffff\" fill-rule=\"evenodd\" fill-opacity=\"1\"/>\n",
       "<defs>\n",
       "  <clipPath id=\"clip081\">\n",
       "    <rect x=\"480\" y=\"0\" width=\"1681\" height=\"1600\"/>\n",
       "  </clipPath>\n",
       "</defs>\n",
       "<path clip-path=\"url(#clip080)\" d=\"\n",
       "M149.191 1423.18 L2352.76 1423.18 L2352.76 47.2441 L149.191 47.2441  Z\n",
       "  \" fill=\"#ffffff\" fill-rule=\"evenodd\" fill-opacity=\"1\"/>\n",
       "<defs>\n",
       "  <clipPath id=\"clip082\">\n",
       "    <rect x=\"149\" y=\"47\" width=\"2205\" height=\"1377\"/>\n",
       "  </clipPath>\n",
       "</defs>\n",
       "<polyline clip-path=\"url(#clip082)\" style=\"stroke:#000000; stroke-linecap:butt; stroke-linejoin:round; stroke-width:2; stroke-opacity:0.1; fill:none\" points=\"\n",
       "  149.191,1423.18 149.191,47.2441 \n",
       "  \"/>\n",
       "<polyline clip-path=\"url(#clip082)\" style=\"stroke:#000000; stroke-linecap:butt; stroke-linejoin:round; stroke-width:2; stroke-opacity:0.1; fill:none\" points=\"\n",
       "  589.904,1423.18 589.904,47.2441 \n",
       "  \"/>\n",
       "<polyline clip-path=\"url(#clip082)\" style=\"stroke:#000000; stroke-linecap:butt; stroke-linejoin:round; stroke-width:2; stroke-opacity:0.1; fill:none\" points=\"\n",
       "  1030.62,1423.18 1030.62,47.2441 \n",
       "  \"/>\n",
       "<polyline clip-path=\"url(#clip082)\" style=\"stroke:#000000; stroke-linecap:butt; stroke-linejoin:round; stroke-width:2; stroke-opacity:0.1; fill:none\" points=\"\n",
       "  1471.33,1423.18 1471.33,47.2441 \n",
       "  \"/>\n",
       "<polyline clip-path=\"url(#clip082)\" style=\"stroke:#000000; stroke-linecap:butt; stroke-linejoin:round; stroke-width:2; stroke-opacity:0.1; fill:none\" points=\"\n",
       "  1912.04,1423.18 1912.04,47.2441 \n",
       "  \"/>\n",
       "<polyline clip-path=\"url(#clip082)\" style=\"stroke:#000000; stroke-linecap:butt; stroke-linejoin:round; stroke-width:2; stroke-opacity:0.1; fill:none\" points=\"\n",
       "  2352.76,1423.18 2352.76,47.2441 \n",
       "  \"/>\n",
       "<polyline clip-path=\"url(#clip080)\" style=\"stroke:#000000; stroke-linecap:butt; stroke-linejoin:round; stroke-width:4; stroke-opacity:1; fill:none\" points=\"\n",
       "  149.191,1423.18 2352.76,1423.18 \n",
       "  \"/>\n",
       "<polyline clip-path=\"url(#clip080)\" style=\"stroke:#000000; stroke-linecap:butt; stroke-linejoin:round; stroke-width:4; stroke-opacity:1; fill:none\" points=\"\n",
       "  149.191,1423.18 149.191,1404.28 \n",
       "  \"/>\n",
       "<polyline clip-path=\"url(#clip080)\" style=\"stroke:#000000; stroke-linecap:butt; stroke-linejoin:round; stroke-width:4; stroke-opacity:1; fill:none\" points=\"\n",
       "  589.904,1423.18 589.904,1404.28 \n",
       "  \"/>\n",
       "<polyline clip-path=\"url(#clip080)\" style=\"stroke:#000000; stroke-linecap:butt; stroke-linejoin:round; stroke-width:4; stroke-opacity:1; fill:none\" points=\"\n",
       "  1030.62,1423.18 1030.62,1404.28 \n",
       "  \"/>\n",
       "<polyline clip-path=\"url(#clip080)\" style=\"stroke:#000000; stroke-linecap:butt; stroke-linejoin:round; stroke-width:4; stroke-opacity:1; fill:none\" points=\"\n",
       "  1471.33,1423.18 1471.33,1404.28 \n",
       "  \"/>\n",
       "<polyline clip-path=\"url(#clip080)\" style=\"stroke:#000000; stroke-linecap:butt; stroke-linejoin:round; stroke-width:4; stroke-opacity:1; fill:none\" points=\"\n",
       "  1912.04,1423.18 1912.04,1404.28 \n",
       "  \"/>\n",
       "<polyline clip-path=\"url(#clip080)\" style=\"stroke:#000000; stroke-linecap:butt; stroke-linejoin:round; stroke-width:4; stroke-opacity:1; fill:none\" points=\"\n",
       "  2352.76,1423.18 2352.76,1404.28 \n",
       "  \"/>\n",
       "<path clip-path=\"url(#clip080)\" d=\"M149.191 1454.1 Q145.58 1454.1 143.751 1457.66 Q141.946 1461.2 141.946 1468.33 Q141.946 1475.44 143.751 1479.01 Q145.58 1482.55 149.191 1482.55 Q152.825 1482.55 154.631 1479.01 Q156.459 1475.44 156.459 1468.33 Q156.459 1461.2 154.631 1457.66 Q152.825 1454.1 149.191 1454.1 M149.191 1450.39 Q155.001 1450.39 158.057 1455 Q161.135 1459.58 161.135 1468.33 Q161.135 1477.06 158.057 1481.67 Q155.001 1486.25 149.191 1486.25 Q143.381 1486.25 140.302 1481.67 Q137.246 1477.06 137.246 1468.33 Q137.246 1459.58 140.302 1455 Q143.381 1450.39 149.191 1450.39 Z\" fill=\"#000000\" fill-rule=\"evenodd\" fill-opacity=\"1\" /><path clip-path=\"url(#clip080)\" d=\"M580.182 1451.02 L598.538 1451.02 L598.538 1454.96 L584.464 1454.96 L584.464 1463.43 Q585.483 1463.08 586.501 1462.92 Q587.52 1462.73 588.538 1462.73 Q594.325 1462.73 597.705 1465.9 Q601.084 1469.08 601.084 1474.49 Q601.084 1480.07 597.612 1483.17 Q594.14 1486.25 587.821 1486.25 Q585.645 1486.25 583.376 1485.88 Q581.131 1485.51 578.723 1484.77 L578.723 1480.07 Q580.807 1481.2 583.029 1481.76 Q585.251 1482.32 587.728 1482.32 Q591.733 1482.32 594.071 1480.21 Q596.408 1478.1 596.408 1474.49 Q596.408 1470.88 594.071 1468.77 Q591.733 1466.67 587.728 1466.67 Q585.853 1466.67 583.978 1467.08 Q582.126 1467.5 580.182 1468.38 L580.182 1451.02 Z\" fill=\"#000000\" fill-rule=\"evenodd\" fill-opacity=\"1\" /><path clip-path=\"url(#clip080)\" d=\"M1005.3 1481.64 L1012.94 1481.64 L1012.94 1455.28 L1004.63 1456.95 L1004.63 1452.69 L1012.9 1451.02 L1017.57 1451.02 L1017.57 1481.64 L1025.21 1481.64 L1025.21 1485.58 L1005.3 1485.58 L1005.3 1481.64 Z\" fill=\"#000000\" fill-rule=\"evenodd\" fill-opacity=\"1\" /><path clip-path=\"url(#clip080)\" d=\"M1044.66 1454.1 Q1041.05 1454.1 1039.22 1457.66 Q1037.41 1461.2 1037.41 1468.33 Q1037.41 1475.44 1039.22 1479.01 Q1041.05 1482.55 1044.66 1482.55 Q1048.29 1482.55 1050.1 1479.01 Q1051.92 1475.44 1051.92 1468.33 Q1051.92 1461.2 1050.1 1457.66 Q1048.29 1454.1 1044.66 1454.1 M1044.66 1450.39 Q1050.47 1450.39 1053.52 1455 Q1056.6 1459.58 1056.6 1468.33 Q1056.6 1477.06 1053.52 1481.67 Q1050.47 1486.25 1044.66 1486.25 Q1038.85 1486.25 1035.77 1481.67 Q1032.71 1477.06 1032.71 1468.33 Q1032.71 1459.58 1035.77 1455 Q1038.85 1450.39 1044.66 1450.39 Z\" fill=\"#000000\" fill-rule=\"evenodd\" fill-opacity=\"1\" /><path clip-path=\"url(#clip080)\" d=\"M1446.52 1481.64 L1454.15 1481.64 L1454.15 1455.28 L1445.84 1456.95 L1445.84 1452.69 L1454.11 1451.02 L1458.78 1451.02 L1458.78 1481.64 L1466.42 1481.64 L1466.42 1485.58 L1446.52 1485.58 L1446.52 1481.64 Z\" fill=\"#000000\" fill-rule=\"evenodd\" fill-opacity=\"1\" /><path clip-path=\"url(#clip080)\" d=\"M1475.91 1451.02 L1494.27 1451.02 L1494.27 1454.96 L1480.2 1454.96 L1480.2 1463.43 Q1481.21 1463.08 1482.23 1462.92 Q1483.25 1462.73 1484.27 1462.73 Q1490.06 1462.73 1493.44 1465.9 Q1496.82 1469.08 1496.82 1474.49 Q1496.82 1480.07 1493.34 1483.17 Q1489.87 1486.25 1483.55 1486.25 Q1481.38 1486.25 1479.11 1485.88 Q1476.86 1485.51 1474.45 1484.77 L1474.45 1480.07 Q1476.54 1481.2 1478.76 1481.76 Q1480.98 1482.32 1483.46 1482.32 Q1487.46 1482.32 1489.8 1480.21 Q1492.14 1478.1 1492.14 1474.49 Q1492.14 1470.88 1489.8 1468.77 Q1487.46 1466.67 1483.46 1466.67 Q1481.58 1466.67 1479.71 1467.08 Q1477.86 1467.5 1475.91 1468.38 L1475.91 1451.02 Z\" fill=\"#000000\" fill-rule=\"evenodd\" fill-opacity=\"1\" /><path clip-path=\"url(#clip080)\" d=\"M1890.82 1481.64 L1907.14 1481.64 L1907.14 1485.58 L1885.19 1485.58 L1885.19 1481.64 Q1887.85 1478.89 1892.44 1474.26 Q1897.04 1469.61 1898.22 1468.27 Q1900.47 1465.74 1901.35 1464.01 Q1902.25 1462.25 1902.25 1460.56 Q1902.25 1457.8 1900.31 1456.07 Q1898.39 1454.33 1895.28 1454.33 Q1893.08 1454.33 1890.63 1455.09 Q1888.2 1455.86 1885.42 1457.41 L1885.42 1452.69 Q1888.25 1451.55 1890.7 1450.97 Q1893.15 1450.39 1895.19 1450.39 Q1900.56 1450.39 1903.76 1453.08 Q1906.95 1455.77 1906.95 1460.26 Q1906.95 1462.39 1906.14 1464.31 Q1905.35 1466.2 1903.25 1468.8 Q1902.67 1469.47 1899.57 1472.69 Q1896.46 1475.88 1890.82 1481.64 Z\" fill=\"#000000\" fill-rule=\"evenodd\" fill-opacity=\"1\" /><path clip-path=\"url(#clip080)\" d=\"M1926.95 1454.1 Q1923.34 1454.1 1921.51 1457.66 Q1919.7 1461.2 1919.7 1468.33 Q1919.7 1475.44 1921.51 1479.01 Q1923.34 1482.55 1926.95 1482.55 Q1930.58 1482.55 1932.39 1479.01 Q1934.22 1475.44 1934.22 1468.33 Q1934.22 1461.2 1932.39 1457.66 Q1930.58 1454.1 1926.95 1454.1 M1926.95 1450.39 Q1932.76 1450.39 1935.82 1455 Q1938.89 1459.58 1938.89 1468.33 Q1938.89 1477.06 1935.82 1481.67 Q1932.76 1486.25 1926.95 1486.25 Q1921.14 1486.25 1918.06 1481.67 Q1915.01 1477.06 1915.01 1468.33 Q1915.01 1459.58 1918.06 1455 Q1921.14 1450.39 1926.95 1450.39 Z\" fill=\"#000000\" fill-rule=\"evenodd\" fill-opacity=\"1\" /><path clip-path=\"url(#clip080)\" d=\"M2332.03 1481.64 L2348.35 1481.64 L2348.35 1485.58 L2326.4 1485.58 L2326.4 1481.64 Q2329.06 1478.89 2333.65 1474.26 Q2338.25 1469.61 2339.43 1468.27 Q2341.68 1465.74 2342.56 1464.01 Q2343.46 1462.25 2343.46 1460.56 Q2343.46 1457.8 2341.52 1456.07 Q2339.6 1454.33 2336.49 1454.33 Q2334.3 1454.33 2331.84 1455.09 Q2329.41 1455.86 2326.63 1457.41 L2326.63 1452.69 Q2329.46 1451.55 2331.91 1450.97 Q2334.36 1450.39 2336.4 1450.39 Q2341.77 1450.39 2344.97 1453.08 Q2348.16 1455.77 2348.16 1460.26 Q2348.16 1462.39 2347.35 1464.31 Q2346.56 1466.2 2344.46 1468.8 Q2343.88 1469.47 2340.78 1472.69 Q2337.67 1475.88 2332.03 1481.64 Z\" fill=\"#000000\" fill-rule=\"evenodd\" fill-opacity=\"1\" /><path clip-path=\"url(#clip080)\" d=\"M2358.21 1451.02 L2376.56 1451.02 L2376.56 1454.96 L2362.49 1454.96 L2362.49 1463.43 Q2363.51 1463.08 2364.53 1462.92 Q2365.55 1462.73 2366.56 1462.73 Q2372.35 1462.73 2375.73 1465.9 Q2379.11 1469.08 2379.11 1474.49 Q2379.11 1480.07 2375.64 1483.17 Q2372.17 1486.25 2365.85 1486.25 Q2363.67 1486.25 2361.4 1485.88 Q2359.16 1485.51 2356.75 1484.77 L2356.75 1480.07 Q2358.83 1481.2 2361.05 1481.76 Q2363.28 1482.32 2365.75 1482.32 Q2369.76 1482.32 2372.1 1480.21 Q2374.43 1478.1 2374.43 1474.49 Q2374.43 1470.88 2372.1 1468.77 Q2369.76 1466.67 2365.75 1466.67 Q2363.88 1466.67 2362 1467.08 Q2360.15 1467.5 2358.21 1468.38 L2358.21 1451.02 Z\" fill=\"#000000\" fill-rule=\"evenodd\" fill-opacity=\"1\" /><path clip-path=\"url(#clip080)\" d=\"M1250.03 1522.27 L1250.03 1532.4 L1262.1 1532.4 L1262.1 1536.95 L1250.03 1536.95 L1250.03 1556.3 Q1250.03 1560.66 1251.21 1561.9 Q1252.42 1563.14 1256.08 1563.14 L1262.1 1563.14 L1262.1 1568.04 L1256.08 1568.04 Q1249.3 1568.04 1246.72 1565.53 Q1244.15 1562.98 1244.15 1556.3 L1244.15 1536.95 L1239.85 1536.95 L1239.85 1532.4 L1244.15 1532.4 L1244.15 1522.27 L1250.03 1522.27 Z\" fill=\"#000000\" fill-rule=\"evenodd\" fill-opacity=\"1\" /><polyline clip-path=\"url(#clip082)\" style=\"stroke:#000000; stroke-linecap:butt; stroke-linejoin:round; stroke-width:2; stroke-opacity:0.1; fill:none\" points=\"\n",
       "  149.191,1344.1 2352.76,1344.1 \n",
       "  \"/>\n",
       "<polyline clip-path=\"url(#clip082)\" style=\"stroke:#000000; stroke-linecap:butt; stroke-linejoin:round; stroke-width:2; stroke-opacity:0.1; fill:none\" points=\"\n",
       "  149.191,988.855 2352.76,988.855 \n",
       "  \"/>\n",
       "<polyline clip-path=\"url(#clip082)\" style=\"stroke:#000000; stroke-linecap:butt; stroke-linejoin:round; stroke-width:2; stroke-opacity:0.1; fill:none\" points=\"\n",
       "  149.191,633.614 2352.76,633.614 \n",
       "  \"/>\n",
       "<polyline clip-path=\"url(#clip082)\" style=\"stroke:#000000; stroke-linecap:butt; stroke-linejoin:round; stroke-width:2; stroke-opacity:0.1; fill:none\" points=\"\n",
       "  149.191,278.372 2352.76,278.372 \n",
       "  \"/>\n",
       "<polyline clip-path=\"url(#clip080)\" style=\"stroke:#000000; stroke-linecap:butt; stroke-linejoin:round; stroke-width:4; stroke-opacity:1; fill:none\" points=\"\n",
       "  149.191,1423.18 149.191,47.2441 \n",
       "  \"/>\n",
       "<polyline clip-path=\"url(#clip080)\" style=\"stroke:#000000; stroke-linecap:butt; stroke-linejoin:round; stroke-width:4; stroke-opacity:1; fill:none\" points=\"\n",
       "  149.191,1344.1 168.089,1344.1 \n",
       "  \"/>\n",
       "<polyline clip-path=\"url(#clip080)\" style=\"stroke:#000000; stroke-linecap:butt; stroke-linejoin:round; stroke-width:4; stroke-opacity:1; fill:none\" points=\"\n",
       "  149.191,988.855 168.089,988.855 \n",
       "  \"/>\n",
       "<polyline clip-path=\"url(#clip080)\" style=\"stroke:#000000; stroke-linecap:butt; stroke-linejoin:round; stroke-width:4; stroke-opacity:1; fill:none\" points=\"\n",
       "  149.191,633.614 168.089,633.614 \n",
       "  \"/>\n",
       "<polyline clip-path=\"url(#clip080)\" style=\"stroke:#000000; stroke-linecap:butt; stroke-linejoin:round; stroke-width:4; stroke-opacity:1; fill:none\" points=\"\n",
       "  149.191,278.372 168.089,278.372 \n",
       "  \"/>\n",
       "<path clip-path=\"url(#clip080)\" d=\"M50.9921 1344.55 L80.6679 1344.55 L80.6679 1348.48 L50.9921 1348.48 L50.9921 1344.55 Z\" fill=\"#000000\" fill-rule=\"evenodd\" fill-opacity=\"1\" /><path clip-path=\"url(#clip080)\" d=\"M103.608 1330.89 L91.8021 1349.34 L103.608 1349.34 L103.608 1330.89 M102.381 1326.82 L108.26 1326.82 L108.26 1349.34 L113.191 1349.34 L113.191 1353.23 L108.26 1353.23 L108.26 1361.38 L103.608 1361.38 L103.608 1353.23 L88.0058 1353.23 L88.0058 1348.71 L102.381 1326.82 Z\" fill=\"#000000\" fill-rule=\"evenodd\" fill-opacity=\"1\" /><path clip-path=\"url(#clip080)\" d=\"M53.0754 989.307 L82.7512 989.307 L82.7512 993.242 L53.0754 993.242 L53.0754 989.307 Z\" fill=\"#000000\" fill-rule=\"evenodd\" fill-opacity=\"1\" /><path clip-path=\"url(#clip080)\" d=\"M96.8715 1002.2 L113.191 1002.2 L113.191 1006.14 L91.2465 1006.14 L91.2465 1002.2 Q93.9086 999.446 98.4919 994.816 Q103.098 990.163 104.279 988.821 Q106.524 986.297 107.404 984.561 Q108.307 982.802 108.307 981.112 Q108.307 978.358 106.362 976.622 Q104.441 974.885 101.339 974.885 Q99.14 974.885 96.6863 975.649 Q94.2558 976.413 91.478 977.964 L91.478 973.242 Q94.3021 972.108 96.7558 971.529 Q99.2095 970.95 101.246 970.95 Q106.617 970.95 109.811 973.635 Q113.006 976.321 113.006 980.811 Q113.006 982.941 112.196 984.862 Q111.408 986.76 109.302 989.353 Q108.723 990.024 105.621 993.242 Q102.52 996.436 96.8715 1002.2 Z\" fill=\"#000000\" fill-rule=\"evenodd\" fill-opacity=\"1\" /><path clip-path=\"url(#clip080)\" d=\"M101.246 619.412 Q97.6354 619.412 95.8067 622.977 Q94.0012 626.519 94.0012 633.648 Q94.0012 640.755 95.8067 644.32 Q97.6354 647.861 101.246 647.861 Q104.881 647.861 106.686 644.32 Q108.515 640.755 108.515 633.648 Q108.515 626.519 106.686 622.977 Q104.881 619.412 101.246 619.412 M101.246 615.709 Q107.057 615.709 110.112 620.315 Q113.191 624.898 113.191 633.648 Q113.191 642.375 110.112 646.982 Q107.057 651.565 101.246 651.565 Q95.4363 651.565 92.3576 646.982 Q89.3021 642.375 89.3021 633.648 Q89.3021 624.898 92.3576 620.315 Q95.4363 615.709 101.246 615.709 Z\" fill=\"#000000\" fill-rule=\"evenodd\" fill-opacity=\"1\" /><path clip-path=\"url(#clip080)\" d=\"M96.8715 291.717 L113.191 291.717 L113.191 295.652 L91.2465 295.652 L91.2465 291.717 Q93.9086 288.962 98.4919 284.333 Q103.098 279.68 104.279 278.337 Q106.524 275.814 107.404 274.078 Q108.307 272.319 108.307 270.629 Q108.307 267.874 106.362 266.138 Q104.441 264.402 101.339 264.402 Q99.14 264.402 96.6863 265.166 Q94.2558 265.93 91.478 267.481 L91.478 262.759 Q94.3021 261.624 96.7558 261.046 Q99.2095 260.467 101.246 260.467 Q106.617 260.467 109.811 263.152 Q113.006 265.837 113.006 270.328 Q113.006 272.458 112.196 274.379 Q111.408 276.277 109.302 278.87 Q108.723 279.541 105.621 282.759 Q102.52 285.953 96.8715 291.717 Z\" fill=\"#000000\" fill-rule=\"evenodd\" fill-opacity=\"1\" /><polyline clip-path=\"url(#clip082)\" style=\"stroke:#009af9; stroke-linecap:butt; stroke-linejoin:round; stroke-width:4; stroke-opacity:1; fill:none\" points=\"\n",
       "  149.191,455.993 151.397,500.424 153.602,544.744 155.808,588.845 158.014,632.618 160.22,675.957 162.425,718.759 164.631,760.923 166.837,802.35 169.043,842.943 \n",
       "  171.249,882.61 173.454,921.262 175.66,958.812 177.866,995.178 180.072,1030.28 182.277,1064.05 184.483,1096.4 186.689,1127.28 188.895,1156.62 191.101,1184.37 \n",
       "  193.306,1210.47 195.512,1234.87 197.718,1257.53 199.924,1278.41 202.129,1297.47 204.335,1314.69 206.541,1330.04 208.747,1343.5 210.952,1355.06 213.158,1364.71 \n",
       "  215.364,1372.43 217.57,1378.25 219.776,1382.14 221.981,1384.14 224.187,1384.24 226.393,1382.47 228.599,1378.85 230.804,1373.41 233.01,1366.18 235.216,1357.2 \n",
       "  237.422,1346.5 239.627,1334.14 241.833,1320.15 244.039,1304.59 246.245,1287.52 248.451,1268.98 250.656,1249.04 252.862,1227.77 255.068,1205.23 257.274,1181.49 \n",
       "  259.479,1156.63 261.685,1130.7 263.891,1103.8 266.097,1076 268.302,1047.36 270.508,1017.99 272.714,987.94 274.92,957.31 277.126,926.178 279.331,894.629 \n",
       "  281.537,862.742 283.743,830.601 285.949,798.29 288.154,765.891 290.36,733.487 292.566,701.158 294.772,668.983 296.978,637.041 299.183,605.407 301.389,574.157 \n",
       "  303.595,543.366 305.801,513.107 308.006,483.45 310.212,454.46 312.418,426.204 314.624,398.748 316.829,372.151 319.035,346.472 321.241,321.766 323.447,298.084 \n",
       "  325.653,275.474 327.858,253.982 330.064,233.65 332.27,214.516 334.476,196.615 336.681,179.979 338.887,164.637 341.093,150.615 343.299,137.937 345.504,126.622 \n",
       "  347.71,116.685 349.916,108.138 352.122,100.987 354.328,95.2373 356.533,90.8881 358.739,87.9355 360.945,86.3719 363.151,86.1857 365.356,87.3619 367.562,89.886 \n",
       "  369.768,93.7387 371.974,98.8973 374.179,105.337 376.385,113.028 378.591,121.941 380.797,132.042 383.003,143.294 385.208,155.658 387.414,169.092 389.62,183.551 \n",
       "  391.826,198.987 394.031,215.351 396.237,232.591 398.443,250.659 400.649,269.502 402.855,289.063 405.06,309.286 407.266,330.116 409.472,351.493 411.678,373.361 \n",
       "  413.883,395.661 416.089,418.334 418.295,441.319 420.501,464.556 422.706,487.985 424.912,511.542 427.118,535.166 429.324,558.801 431.53,582.389 433.735,605.871 \n",
       "  435.941,629.187 438.147,652.281 440.353,675.095 442.558,697.578 444.764,719.676 446.97,741.339 449.176,762.517 451.381,783.164 453.587,803.233 455.793,822.681 \n",
       "  457.999,841.464 460.205,859.542 462.41,876.878 464.616,893.438 466.822,909.186 469.028,924.091 471.233,938.123 473.439,951.256 475.645,963.464 477.851,974.727 \n",
       "  480.056,985.026 482.262,994.345 484.468,1002.67 486.674,1009.99 488.88,1016.31 491.085,1021.61 493.291,1025.89 495.497,1029.15 497.703,1031.4 499.908,1032.63 \n",
       "  502.114,1032.86 504.32,1032.1 506.526,1030.34 508.732,1027.62 510.937,1023.93 513.143,1019.31 515.349,1013.77 517.555,1007.33 519.76,1000.03 521.966,991.881 \n",
       "  524.172,982.922 526.378,973.185 528.583,962.703 530.789,951.508 532.995,939.632 535.201,927.112 537.407,913.987 539.612,900.294 541.818,886.074 544.024,871.366 \n",
       "  546.23,856.211 548.435,840.651 550.641,824.729 552.847,808.487 555.053,791.971 557.258,775.223 559.464,758.291 561.67,741.219 563.876,724.047 566.082,706.818 \n",
       "  568.287,689.579 570.493,672.372 572.699,655.242 574.905,638.231 577.11,621.378 579.316,604.726 581.522,588.311 583.728,572.173 585.933,556.348 588.139,540.872 \n",
       "  590.345,525.781 592.551,511.107 594.757,496.885 596.962,483.146 599.168,469.919 601.374,457.23 603.58,445.106 605.785,433.571 607.991,422.651 610.197,412.367 \n",
       "  612.403,402.737 614.609,393.78 616.814,385.511 619.02,377.944 621.226,371.09 623.432,364.959 625.637,359.558 627.843,354.893 630.049,350.968 632.255,347.783 \n",
       "  634.46,345.341 636.666,343.639 638.872,342.675 641.078,342.446 643.284,342.945 645.489,344.165 647.695,346.095 649.901,348.725 652.107,352.042 654.312,356.03 \n",
       "  656.518,360.672 658.724,365.951 660.93,371.845 663.135,378.333 665.341,385.39 667.547,392.99 669.753,401.113 671.959,409.734 674.164,418.826 676.37,428.363 \n",
       "  678.576,438.315 680.782,448.655 682.987,459.352 685.193,470.378 687.399,481.701 689.605,493.292 691.81,505.118 694.016,517.147 696.222,529.348 698.428,541.686 \n",
       "  700.634,554.129 702.839,566.646 705.045,579.208 707.251,591.78 709.457,604.332 711.662,616.83 713.868,629.244 716.074,641.544 718.28,653.702 720.486,665.687 \n",
       "  722.691,677.473 724.897,689.032 727.103,700.338 729.309,711.367 731.514,722.092 733.72,732.491 735.926,742.54 738.132,752.217 740.337,761.501 742.543,770.376 \n",
       "  744.749,778.823 746.955,786.824 749.161,794.363 751.366,801.425 753.572,807.999 755.778,814.07 757.984,819.631 760.189,824.672 762.395,829.186 764.601,833.167 \n",
       "  766.807,836.611 769.012,839.516 771.218,841.88 773.424,843.703 775.63,844.986 777.836,845.732 780.041,845.942 782.247,845.621 784.453,844.775 786.659,843.411 \n",
       "  788.864,841.536 791.07,839.16 793.276,836.294 795.482,832.949 797.687,829.138 799.893,824.877 802.099,820.18 804.305,815.064 806.511,809.549 808.716,803.653 \n",
       "  810.922,797.395 813.128,790.791 815.334,783.861 817.539,776.626 819.745,769.108 821.951,761.327 824.157,753.306 826.363,745.066 828.568,736.631 830.774,728.021 \n",
       "  832.98,719.261 835.186,710.374 837.391,701.384 839.597,692.314 841.803,683.188 844.009,674.032 846.214,664.864 848.42,655.709 850.626,646.59 852.832,637.529 \n",
       "  855.038,628.55 857.243,619.674 859.449,610.922 861.655,602.314 863.861,593.87 866.066,585.61 868.272,577.552 870.478,569.714 872.684,562.112 874.889,554.764 \n",
       "  877.095,547.685 879.301,540.891 881.507,534.395 883.713,528.212 885.918,522.351 888.124,516.825 890.33,511.645 892.536,506.821 894.741,502.362 896.947,498.275 \n",
       "  899.153,494.566 901.359,491.242 903.564,488.307 905.77,485.764 907.976,483.615 910.182,481.861 912.388,480.502 914.593,479.538 916.799,478.966 919.005,478.784 \n",
       "  921.211,478.988 923.416,479.575 925.622,480.539 927.828,481.875 930.034,483.577 932.24,485.636 934.445,488.044 936.651,490.792 938.857,493.871 941.063,497.268 \n",
       "  943.268,500.973 945.474,504.972 947.68,509.252 949.886,513.799 952.091,518.598 954.297,523.633 956.503,528.892 958.709,534.359 960.915,540.019 963.12,545.856 \n",
       "  965.326,551.852 967.532,557.993 969.738,564.26 971.943,570.639 974.149,577.111 976.355,583.66 978.561,590.269 980.766,596.921 982.972,603.598 985.178,610.284 \n",
       "  987.384,616.961 989.59,623.612 991.795,630.222 994.001,636.777 996.207,643.258 998.413,649.65 1000.62,655.938 1002.82,662.107 1005.03,668.143 1007.24,674.032 \n",
       "  1009.44,679.762 1011.65,685.319 1013.85,690.691 1016.06,695.868 1018.26,700.839 1020.47,705.593 1022.68,710.12 1024.88,714.412 1027.09,718.46 1029.29,722.257 \n",
       "  1031.5,725.796 1033.7,729.071 1035.91,732.075 1038.12,734.803 1040.32,737.252 1042.53,739.417 1044.73,741.297 1046.94,742.888 1049.15,744.191 1051.35,745.204 \n",
       "  1053.56,745.929 1055.76,746.367 1057.97,746.52 1060.17,746.391 1062.38,745.983 1064.59,745.3 1066.79,744.345 1069,743.125 1071.2,741.645 1073.41,739.91 \n",
       "  1075.61,737.927 1077.82,735.704 1080.03,733.248 1082.23,730.567 1084.44,727.671 1086.64,724.567 1088.85,721.268 1091.06,717.782 1093.26,714.121 1095.47,710.296 \n",
       "  1097.67,706.32 1099.88,702.203 1102.08,697.956 1104.29,693.591 1106.5,689.121 1108.7,684.556 1110.91,679.911 1113.11,675.197 1115.32,670.426 1117.52,665.611 \n",
       "  1119.73,660.764 1121.94,655.897 1124.14,651.022 1126.35,646.152 1128.55,641.299 1130.76,636.475 1132.96,631.693 1135.17,626.964 1137.38,622.297 1139.58,617.705 \n",
       "  1141.79,613.197 1143.99,608.786 1146.2,604.481 1148.41,600.292 1150.61,596.228 1152.82,592.298 1155.02,588.511 1157.23,584.874 1159.43,581.395 1161.64,578.081 \n",
       "  1163.85,574.938 1166.05,571.972 1168.26,569.19 1170.46,566.595 1172.67,564.193 1174.87,561.987 1177.08,559.981 1179.29,558.177 1181.49,556.58 1183.7,555.191 \n",
       "  1185.9,554.012 1188.11,553.043 1190.31,552.285 1192.52,551.739 1194.73,551.402 1196.93,551.274 1199.14,551.353 1201.34,551.636 1203.55,552.121 1205.76,552.803 \n",
       "  1207.96,553.679 1210.17,554.745 1212.37,555.996 1214.58,557.428 1216.78,559.036 1218.99,560.813 1221.2,562.754 1223.4,564.852 1225.61,567.101 1227.81,569.494 \n",
       "  1230.02,572.024 1232.22,574.682 1234.43,577.461 1236.64,580.353 1238.84,583.348 1241.05,586.439 1243.25,589.616 1245.46,592.87 1247.66,596.194 1249.87,599.578 \n",
       "  1252.08,603.013 1254.28,606.49 1256.49,609.999 1258.69,613.532 1260.9,617.08 1263.11,620.633 1265.31,624.184 1267.52,627.723 1269.72,631.242 1271.93,634.732 \n",
       "  1274.13,638.185 1276.34,641.592 1278.55,644.946 1280.75,648.237 1282.96,651.459 1285.16,654.604 1287.37,657.667 1289.57,660.639 1291.78,663.514 1293.99,666.285 \n",
       "  1296.19,668.947 1298.4,671.495 1300.6,673.922 1302.81,676.224 1305.01,678.397 1307.22,680.436 1309.43,682.339 1311.63,684.101 1313.84,685.721 1316.04,687.194 \n",
       "  1318.25,688.52 1320.46,689.696 1322.66,690.722 1324.87,691.595 1327.07,692.315 1329.28,692.881 1331.48,693.294 1333.69,693.553 1335.9,693.66 1338.1,693.616 \n",
       "  1340.31,693.422 1342.51,693.08 1344.72,692.593 1346.92,691.964 1349.13,691.196 1351.34,690.293 1353.54,689.258 1355.75,688.095 1357.95,686.808 1360.16,685.402 \n",
       "  1362.36,683.88 1364.57,682.249 1366.78,680.513 1368.98,678.677 1371.19,676.747 1373.39,674.728 1375.6,672.627 1377.81,670.449 1380.01,668.201 1382.22,665.889 \n",
       "  1384.42,663.519 1386.63,661.099 1388.83,658.635 1391.04,656.132 1393.25,653.599 1395.45,651.041 1397.66,648.465 1399.86,645.878 1402.07,643.286 1404.27,640.696 \n",
       "  1406.48,638.115 1408.69,635.548 1410.89,633.002 1413.1,630.482 1415.3,627.995 1417.51,625.547 1419.71,623.143 1421.92,620.788 1424.13,618.49 1426.33,616.252 \n",
       "  1428.54,614.08 1430.74,611.978 1432.95,609.95 1435.16,608.002 1437.36,606.137 1439.57,604.359 1441.77,602.672 1443.98,601.08 1446.18,599.584 1448.39,598.188 \n",
       "  1450.6,596.895 1452.8,595.706 1455.01,594.623 1457.21,593.648 1459.42,592.783 1461.62,592.027 1463.83,591.382 1466.04,590.848 1468.24,590.426 1470.45,590.115 \n",
       "  1472.65,589.917 1474.86,589.829 1477.06,589.851 1479.27,589.983 1481.48,590.222 1483.68,590.568 1485.89,591.018 1488.09,591.57 1490.3,592.222 1492.51,592.97 \n",
       "  1494.71,593.812 1496.92,594.744 1499.12,595.763 1501.33,596.866 1503.53,598.05 1505.74,599.31 1507.95,600.644 1510.15,602.046 1512.36,603.512 1514.56,605.039 \n",
       "  1516.77,606.623 1518.97,608.258 1521.18,609.94 1523.39,611.664 1525.59,613.426 1527.8,615.221 1530,617.044 1532.21,618.89 1534.41,620.754 1536.62,622.632 \n",
       "  1538.83,624.518 1541.03,626.408 1543.24,628.298 1545.44,630.181 1547.65,632.054 1549.86,633.913 1552.06,635.752 1554.27,637.567 1556.47,639.354 1558.68,641.11 \n",
       "  1560.88,642.829 1563.09,644.508 1565.3,646.144 1567.5,647.732 1569.71,649.269 1571.91,650.752 1574.12,652.177 1576.32,653.542 1578.53,654.844 1580.74,656.08 \n",
       "  1582.94,657.247 1585.15,658.344 1587.35,659.368 1589.56,660.317 1591.76,661.191 1593.97,661.987 1596.18,662.704 1598.38,663.341 1600.59,663.899 1602.79,664.375 \n",
       "  1605,664.77 1607.21,665.084 1609.41,665.317 1611.62,665.468 1613.82,665.539 1616.03,665.529 1618.23,665.44 1620.44,665.273 1622.65,665.027 1624.85,664.706 \n",
       "  1627.06,664.31 1629.26,663.841 1631.47,663.301 1633.67,662.693 1635.88,662.017 1638.09,661.278 1640.29,660.478 1642.5,659.619 1644.7,658.704 1646.91,657.736 \n",
       "  1649.12,656.717 1651.32,655.651 1653.53,654.541 1655.73,653.39 1657.94,652.201 1660.14,650.977 1662.35,649.722 1664.56,648.44 1666.76,647.133 1668.97,645.805 \n",
       "  1671.17,644.46 1673.38,643.101 1675.58,641.733 1677.79,640.358 1680,638.979 1682.2,637.601 1684.41,636.227 1686.61,634.86 1688.82,633.503 1691.02,632.161 \n",
       "  1693.23,630.836 1695.44,629.53 1697.64,628.248 1699.85,626.993 1702.05,625.766 1704.26,624.571 1706.47,623.41 1708.67,622.286 1710.88,621.202 1713.08,620.159 \n",
       "  1715.29,619.16 1717.49,618.207 1719.7,617.302 1721.91,616.446 1724.11,615.642 1726.32,614.891 1728.52,614.194 1730.73,613.552 1732.93,612.967 1735.14,612.439 \n",
       "  1737.35,611.969 1739.55,611.559 1741.76,611.207 1743.96,610.914 1746.17,610.681 1748.37,610.507 1750.58,610.392 1752.79,610.336 1754.99,610.339 1757.2,610.399 \n",
       "  1759.4,610.517 1761.61,610.691 1763.82,610.92 1766.02,611.204 1768.23,611.541 1770.43,611.93 1772.64,612.37 1774.84,612.858 1777.05,613.393 1779.26,613.973 \n",
       "  1781.46,614.597 1783.67,615.261 1785.87,615.965 1788.08,616.705 1790.28,617.48 1792.49,618.287 1794.7,619.124 1796.9,619.989 1799.11,620.88 1801.31,621.793 \n",
       "  1803.52,622.726 1805.72,623.678 1807.93,624.645 1810.14,625.624 1812.34,626.614 1814.55,627.612 1816.75,628.615 1818.96,629.62 1821.17,630.624 1823.37,631.627 \n",
       "  1825.58,632.624 1827.78,633.614 1829.99,634.595 1832.19,635.562 1834.4,636.516 1836.61,637.452 1838.81,638.37 1841.02,639.266 1843.22,640.14 1845.43,640.988 \n",
       "  1847.63,641.81 1849.84,642.603 1852.05,643.365 1854.25,644.096 1856.46,644.794 1858.66,645.456 1860.87,646.083 1863.07,646.672 1865.28,647.224 1867.49,647.735 \n",
       "  1869.69,648.207 1871.9,648.637 1874.1,649.026 1876.31,649.372 1878.52,649.675 1880.72,649.935 1882.93,650.152 1885.13,650.326 1887.34,650.456 1889.54,650.542 \n",
       "  1891.75,650.586 1893.96,650.587 1896.16,650.546 1898.37,650.464 1900.57,650.34 1902.78,650.176 1904.98,649.972 1907.19,649.729 1909.4,649.449 1911.6,649.132 \n",
       "  1913.81,648.779 1916.01,648.392 1918.22,647.972 1920.42,647.52 1922.63,647.038 1924.84,646.527 1927.04,645.989 1929.25,645.426 1931.45,644.839 1933.66,644.23 \n",
       "  1935.87,643.6 1938.07,642.952 1940.28,642.287 1942.48,641.608 1944.69,640.915 1946.89,640.211 1949.1,639.497 1951.31,638.776 1953.51,638.049 1955.72,637.319 \n",
       "  1957.92,636.586 1960.13,635.853 1962.33,635.122 1964.54,634.394 1966.75,633.671 1968.95,632.956 1971.16,632.25 1973.36,631.553 1975.57,630.869 1977.77,630.199 \n",
       "  1979.98,629.543 1982.19,628.905 1984.39,628.285 1986.6,627.684 1988.8,627.104 1991.01,626.546 1993.22,626.011 1995.42,625.501 1997.63,625.015 1999.83,624.556 \n",
       "  2002.04,624.125 2004.24,623.721 2006.45,623.345 2008.66,622.999 2010.86,622.683 2013.07,622.397 2015.27,622.142 2017.48,621.918 2019.68,621.725 2021.89,621.564 \n",
       "  2024.1,621.435 2026.3,621.337 2028.51,621.272 2030.71,621.237 2032.92,621.234 2035.12,621.262 2037.33,621.32 2039.54,621.408 2041.74,621.526 2043.95,621.673 \n",
       "  2046.15,621.847 2048.36,622.05 2050.57,622.279 2052.77,622.534 2054.98,622.814 2057.18,623.118 2059.39,623.445 2061.59,623.795 2063.8,624.166 2066.01,624.556 \n",
       "  2068.21,624.965 2070.42,625.392 2072.62,625.835 2074.83,626.294 2077.03,626.765 2079.24,627.249 2081.45,627.744 2083.65,628.249 2085.86,628.762 2088.06,629.281 \n",
       "  2090.27,629.807 2092.47,630.337 2094.68,630.869 2096.89,631.403 2099.09,631.938 2101.3,632.471 2103.5,633.002 2105.71,633.529 2107.92,634.051 2110.12,634.567 \n",
       "  2112.33,635.075 2114.53,635.575 2116.74,636.064 2118.94,636.543 2121.15,637.01 2123.36,637.464 2125.56,637.903 2127.77,638.327 2129.97,638.736 2132.18,639.127 \n",
       "  2134.38,639.501 2136.59,639.856 2138.8,640.192 2141,640.509 2143.21,640.805 2145.41,641.08 2147.62,641.334 2149.82,641.567 2152.03,641.777 2154.24,641.965 \n",
       "  2156.44,642.13 2158.65,642.272 2160.85,642.392 2163.06,642.488 2165.27,642.561 2167.47,642.611 2169.68,642.638 2171.88,642.643 2174.09,642.624 2176.29,642.583 \n",
       "  2178.5,642.521 2180.71,642.436 2182.91,642.331 2185.12,642.205 2187.32,642.059 2189.53,641.893 2191.73,641.709 2193.94,641.506 2196.15,641.285 2198.35,641.048 \n",
       "  2200.56,640.794 2202.76,640.525 2204.97,640.242 2207.18,639.945 2209.38,639.635 2211.59,639.312 2213.79,638.979 2216,638.636 2218.2,638.284 2220.41,637.923 \n",
       "  2222.62,637.556 2224.82,637.182 2227.03,636.804 2229.23,636.421 2231.44,636.034 2233.64,635.646 2235.85,635.257 2238.06,634.867 2240.26,634.478 2242.47,634.091 \n",
       "  2244.67,633.706 2246.88,633.325 2249.08,632.949 2251.29,632.578 2253.5,632.213 2255.7,631.855 2257.91,631.505 2260.11,631.164 2262.32,630.833 2264.53,630.511 \n",
       "  2266.73,630.201 2268.94,629.902 2271.14,629.616 2273.35,629.342 2275.55,629.082 2277.76,628.835 2279.97,628.603 2282.17,628.386 2284.38,628.184 2286.58,627.998 \n",
       "  2288.79,627.827 2290.99,627.673 2293.2,627.534 2295.41,627.413 2297.61,627.308 2299.82,627.219 2302.02,627.148 2304.23,627.093 2306.43,627.055 2308.64,627.034 \n",
       "  2310.85,627.029 2313.05,627.041 2315.26,627.069 2317.46,627.114 2319.67,627.174 2321.88,627.249 2324.08,627.34 2326.29,627.446 2328.49,627.566 2330.7,627.699 \n",
       "  2332.9,627.846 2335.11,628.006 2337.32,628.178 2339.52,628.362 2341.73,628.558 2343.93,628.763 2346.14,628.979 2348.34,629.205 2350.55,629.439 2352.76,629.681 \n",
       "  \n",
       "  \"/>\n",
       "<path clip-path=\"url(#clip080)\" d=\"\n",
       "M1956.27 196.789 L2279.3 196.789 L2279.3 93.1086 L1956.27 93.1086  Z\n",
       "  \" fill=\"#ffffff\" fill-rule=\"evenodd\" fill-opacity=\"1\"/>\n",
       "<polyline clip-path=\"url(#clip080)\" style=\"stroke:#000000; stroke-linecap:butt; stroke-linejoin:round; stroke-width:4; stroke-opacity:1; fill:none\" points=\"\n",
       "  1956.27,196.789 2279.3,196.789 2279.3,93.1086 1956.27,93.1086 1956.27,196.789 \n",
       "  \"/>\n",
       "<polyline clip-path=\"url(#clip080)\" style=\"stroke:#009af9; stroke-linecap:butt; stroke-linejoin:round; stroke-width:4; stroke-opacity:1; fill:none\" points=\"\n",
       "  1980.75,144.949 2127.66,144.949 \n",
       "  \"/>\n",
       "<path clip-path=\"url(#clip080)\" d=\"M2176.79 136.303 L2167.42 148.919 L2177.28 162.229 L2172.26 162.229 L2164.71 152.043 L2157.16 162.229 L2152.14 162.229 L2162.21 148.664 L2153 136.303 L2158.02 136.303 L2164.9 145.539 L2171.77 136.303 L2176.79 136.303 Z\" fill=\"#000000\" fill-rule=\"evenodd\" fill-opacity=\"1\" /><path clip-path=\"url(#clip080)\" d=\"M2193.53 126.257 Q2190.43 131.581 2188.92 136.789 Q2187.42 141.997 2187.42 147.344 Q2187.42 152.692 2188.92 157.946 Q2190.45 163.178 2193.53 168.479 L2189.83 168.479 Q2186.35 163.039 2184.62 157.784 Q2182.91 152.53 2182.91 147.344 Q2182.91 142.182 2184.62 136.951 Q2186.33 131.72 2189.83 126.257 L2193.53 126.257 Z\" fill=\"#000000\" fill-rule=\"evenodd\" fill-opacity=\"1\" /><path clip-path=\"url(#clip080)\" d=\"M2206.01 128.942 L2206.01 136.303 L2214.78 136.303 L2214.78 139.613 L2206.01 139.613 L2206.01 153.687 Q2206.01 156.858 2206.86 157.761 Q2207.74 158.664 2210.41 158.664 L2214.78 158.664 L2214.78 162.229 L2210.41 162.229 Q2205.47 162.229 2203.6 160.4 Q2201.72 158.548 2201.72 153.687 L2201.72 139.613 L2198.6 139.613 L2198.6 136.303 L2201.72 136.303 L2201.72 128.942 L2206.01 128.942 Z\" fill=\"#000000\" fill-rule=\"evenodd\" fill-opacity=\"1\" /><path clip-path=\"url(#clip080)\" d=\"M2219.71 126.257 L2223.41 126.257 Q2226.89 131.72 2228.6 136.951 Q2230.34 142.182 2230.34 147.344 Q2230.34 152.53 2228.6 157.784 Q2226.89 163.039 2223.41 168.479 L2219.71 168.479 Q2222.79 163.178 2224.29 157.946 Q2225.82 152.692 2225.82 147.344 Q2225.82 141.997 2224.29 136.789 Q2222.79 131.581 2219.71 126.257 Z\" fill=\"#000000\" fill-rule=\"evenodd\" fill-opacity=\"1\" /></svg>\n"
      ]
     },
     "metadata": {},
     "output_type": "display_data"
    }
   ],
   "source": [
    "plot(sol,vars=x)"
   ]
  },
  {
   "cell_type": "markdown",
   "metadata": {},
   "source": [
    "# Lyapunov conditions for stability i.s.L.\n",
    "\n",
    "For a system with dynamics $\\dot{\\mathbf{x}} = f(\\mathbf{x})$ with a fixed point at the origin, a Lyapunov function $V(\\mathbf{x})$ proves stability i.s.L. if, in some open set surrounding the origin,\n",
    "$$ \\begin{gather*}\n",
    "    V(\\mathbf{x}) \\succ 0, \\\\\n",
    "    \\dot{V}(\\mathbf{x}) \\preceq 0.\n",
    "\\end{gather*}$$\n",
    "\n",
    "There are modifications to this that can be made to ensure global, asymptotic, and/or exponential stability, but we begin with the weakest form of stability, which simplifies the set up in some ways."
   ]
  },
  {
   "cell_type": "markdown",
   "metadata": {},
   "source": [
    "# Neural Lyapunov set-up\n",
    "\n",
    "Let the domain we consider be the box $-10 < x, \\dot{x}, < 10$, which we will denote $\\mathcal{D}$.\n",
    "Following _Lyapunov-Net_ by Gaby et. al. 2021, we can satisfy $V(\\mathbf{x}) \\succ 0$ by letting,\n",
    "$$ V(\\mathbf{x}) = \\left\\lVert \\phi_\\theta(\\mathbf{x}) - \\phi_\\theta(\\mathbf{0}) \\right\\rVert^2 + \\delta \\log(1 + \\left\\lVert \\mathbf{x} \\right\\rVert^2) , $$\n",
    "where $\\mathbf{x} = (x, \\dot{x})$ and $\\delta > 0$ is a hyperparameter.\n",
    "Then, $\\dot{V} \\preceq 0$ is a partial differential inequality given by\n",
    "$$ (\\nabla V) \\cdot f(\\mathbf{x}) \\le 0.$$\n",
    "(Note that $\\dot{V}(\\mathbf{0}) = 0$ is guaranteed by $f(\\mathbf{0}) = \\mathbf{0}$, which is required for the origin to be a fixed point.)\n",
    "Plugging in our formula for $V$ yields\n",
    "$$ \\left((\\nabla_\\mathbf{x} \\phi_\\theta) (\\phi_\\theta(\\mathbf{x}) - \\phi_\\theta(\\mathbf{0})) + \\frac{(2 \\delta) \\mathbf{x}}{1 + \\left\\lVert \\mathbf{x} \\right\\rVert^2} \\right) \\cdot f(\\mathbf{x}) \\le 0. $$\n",
    "This partial differential inequality can be made into a partial differential equation using the ReLU function (though this messes with differentiability):\n",
    "$$ ReLU \\left(\\left((\\nabla_\\mathbf{x} \\phi_\\theta) (\\phi_\\theta(\\mathbf{x}) - \\phi_\\theta(\\mathbf{0})) + \\frac{(2 \\delta) \\mathbf{x}}{1 + \\left\\lVert \\mathbf{x} \\right\\rVert^2} \\right) \\cdot f(\\mathbf{x}) \\right) = 0. $$\n",
    "Thus, a suitable loss function is\n",
    "$$ \\ell(\\theta) = \\int_{\\mathbf{x} \\in \\mathcal{D}} ReLu \\left( \\left((\\nabla_\\mathbf{x} \\phi_\\theta) (\\phi_\\theta(\\mathbf{x}) - \\phi_\\theta(\\mathbf{0})) + \\frac{(2 \\delta) \\mathbf{x}}{1 + \\left\\lVert \\mathbf{x} \\right\\rVert^2} \\right) \\cdot f(\\mathbf{x}) \\right) d\\mathbf{x}, $$\n",
    "Which should achieve a minimal value of zero if and only if $\\dot{V} \\le 0$ for all $\\mathbf{x} \\in \\mathcal{D}$.\n",
    "(If $\\phi_\\theta$ isn't constrained to be continuous, then technically $\\dot{V}$ could be positive on a set of measure zero, but continuity of $\\phi_\\theta$ implies that $\\dot{V}$ cannot be positive only on a set of measure zero.)"
   ]
  },
  {
   "cell_type": "code",
   "execution_count": 1,
   "metadata": {},
   "outputs": [],
   "source": [
    "using ModelingToolkit, LinearAlgebra"
   ]
  },
  {
   "cell_type": "code",
   "execution_count": 2,
   "metadata": {},
   "outputs": [
    {
     "data": {
      "text/plain": [
       "PDESystem\n",
       "Equations: Equation[log(1 + exp(10(-0.4v - 4x)*((φ(x, v) - φ(0, 0))*Differential(v)(φ(x, v)) + (0.002v) / (1 + v^2 + x^2)) + 10v*((φ(x, v) - φ(0, 0))*Differential(x)(φ(x, v)) + (0.002x) / (1 + v^2 + x^2)))) ~ 0]\n",
       "Boundary Conditions: Any[]\n",
       "Domain: Symbolics.VarDomainPairing[Symbolics.VarDomainPairing(x, -10..10), Symbolics.VarDomainPairing(v, -10..10)]\n",
       "Dependent Variables: Num[φ(x, v)]\n",
       "Independent Variables: Num[x, v]\n",
       "Parameters: SciMLBase.NullParameters()\n",
       "Default Parameter ValuesDict{Any, Any}()"
      ]
     },
     "metadata": {},
     "output_type": "display_data"
    }
   ],
   "source": [
    "@parameters x v δ\n",
    "@variables φ(..)\n",
    "Dx = Differential(x)\n",
    "Dv = Differential(v)\n",
    "\n",
    "# Constants\n",
    "δ = 1e-3\n",
    "ζ = 0.1\n",
    "ω_0 = 2\n",
    "\n",
    "# Equations\n",
    "f(x,v) = [v ; -2ζ*ω_0*v - ω_0^2*x]\n",
    "V(x,v) = norm(φ(x,v) - φ(0,0)) + δ * log(1 + x^2 + v^2)\n",
    "DV(x,v) =   f(x,v) ⋅ (transpose([Dx(φ(x,v)) Dv(φ(x,v))]) * \n",
    "            (φ(x,v) - φ(0,0)) + 2δ/(1 + x^2 + v^2) * [x; v])\n",
    "#eq = max(0, DV(x,v)) ~ 0\n",
    "eq = log(1 + exp(10*DV(x,v))) ~ 0 # Differentiable, approximate ReLU\n",
    "\n",
    "# Domain\n",
    "domains = [ x ∈ (-10,10),\n",
    "            v ∈ (-10,10) ]\n",
    "\n",
    "# Combine into a PDESystem\n",
    "@named lyapunov_pde =   PDESystem(eq, [], domains, [x,v], [φ(x,v)])#, [δ, ζ, ω_0])\n",
    "#values: , [δ => 1e-3, ζ => 0.1, ω_0 => 2]"
   ]
  },
  {
   "cell_type": "code",
   "execution_count": 3,
   "metadata": {},
   "outputs": [],
   "source": [
    "using Flux, DiffEqFlux"
   ]
  },
  {
   "cell_type": "code",
   "execution_count": 31,
   "metadata": {},
   "outputs": [],
   "source": [
    "in_dim = 2      # x and v\n",
    "out_dim = 1     # φ (hopefully this works)\n",
    "hidden_dim = 16\n",
    "\n",
    "chain = FastChain(\n",
    "    FastDense(in_dim, hidden_dim, Flux.tanh), \n",
    "    FastDense(hidden_dim, hidden_dim, Flux.tanh), \n",
    "    FastDense(hidden_dim, out_dim)\n",
    "    )\n",
    "\n",
    "# Initial parameters of NeuralNetwork\n",
    "init0 = Float64.(DiffEqFlux.initial_params(chain));"
   ]
  },
  {
   "cell_type": "code",
   "execution_count": 32,
   "metadata": {},
   "outputs": [],
   "source": [
    "using NeuralPDE"
   ]
  },
  {
   "cell_type": "code",
   "execution_count": 33,
   "metadata": {},
   "outputs": [
    {
     "data": {
      "text/plain": [
       "\u001b[36mOptimizationProblem\u001b[0m. In-place: \u001b[36mtrue\u001b[0m\n",
       "u0: 337-element Vector{Float64}:\n",
       "  0.2670389413833618\n",
       "  0.16041912138462067\n",
       " -0.2625815272331238\n",
       "  0.00491359131410718\n",
       "  0.16269925236701965\n",
       " -0.20299692451953888\n",
       "  0.1353524625301361\n",
       "  0.1389562338590622\n",
       " -0.3588215410709381\n",
       "  0.10081306844949722\n",
       "  ⋮\n",
       " -0.3340120017528534\n",
       "  0.5543989539146423\n",
       "  0.23854750394821167\n",
       "  0.2390182614326477\n",
       "  0.18201729655265808\n",
       " -0.12217500060796738\n",
       " -0.5560983419418335\n",
       " -0.45103174448013306\n",
       "  0.0"
      ]
     },
     "metadata": {},
     "output_type": "display_data"
    }
   ],
   "source": [
    "dx = 0.1\n",
    "strategy = GridTraining(dx)\n",
    "discretization = PhysicsInformedNN(chain, strategy, init_params = init0)\n",
    "\n",
    "prob = discretize(lyapunov_pde, discretization)"
   ]
  },
  {
   "cell_type": "code",
   "execution_count": 28,
   "metadata": {},
   "outputs": [],
   "source": [
    "using Optim, GalacticOptim"
   ]
  },
  {
   "cell_type": "code",
   "execution_count": 34,
   "metadata": {},
   "outputs": [
    {
     "data": {
      "text/plain": [
       "#13 (generic function with 1 method)"
      ]
     },
     "metadata": {},
     "output_type": "display_data"
    }
   ],
   "source": [
    "opt = Optim.BFGS()\n",
    "\n",
    "# A callback to print the loss\n",
    "cb = function (p,l)\n",
    "    println(\"Current loss is: $l\")\n",
    "    return false\n",
    "end\n"
   ]
  },
  {
   "cell_type": "code",
   "execution_count": 35,
   "metadata": {},
   "outputs": [
    {
     "ename": "MethodError",
     "evalue": "MethodError: no method matching zero(::Type{Any})\nClosest candidates are:\n  zero(::Type{Union{Missing, T}}) where T at /opt/julia-1.7.1/share/julia/base/missing.jl:105\n  zero(!Matched::Union{Type{P}, P}) where P<:Dates.Period at /opt/julia-1.7.1/share/julia/stdlib/v1.7/Dates/src/periods.jl:53\n  zero(!Matched::Union{AbstractAlgebra.Generic.LaurentSeriesFieldElem{T}, AbstractAlgebra.Generic.LaurentSeriesRingElem{T}} where T<:AbstractAlgebra.RingElement) at ~/.julia/packages/AbstractAlgebra/fUeRJ/src/generic/LaurentSeries.jl:466\n  ...",
     "output_type": "error",
     "traceback": [
      "MethodError: no method matching zero(::Type{Any})\n",
      "Closest candidates are:\n",
      "  zero(::Type{Union{Missing, T}}) where T at /opt/julia-1.7.1/share/julia/base/missing.jl:105\n",
      "  zero(!Matched::Union{Type{P}, P}) where P<:Dates.Period at /opt/julia-1.7.1/share/julia/stdlib/v1.7/Dates/src/periods.jl:53\n",
      "  zero(!Matched::Union{AbstractAlgebra.Generic.LaurentSeriesFieldElem{T}, AbstractAlgebra.Generic.LaurentSeriesRingElem{T}} where T<:AbstractAlgebra.RingElement) at ~/.julia/packages/AbstractAlgebra/fUeRJ/src/generic/LaurentSeries.jl:466\n",
      "  ...\n",
      "\n",
      "Stacktrace:\n",
      "  [1] zero(#unused#::Type{Any})\n",
      "    @ Base ./missing.jl:106\n",
      "  [2] reduce_empty(#unused#::typeof(+), #unused#::Type{Any})\n",
      "    @ Base ./reduce.jl:313\n",
      "  [3] reduce_empty(#unused#::typeof(Base.add_sum), #unused#::Type{Any})\n",
      "    @ Base ./reduce.jl:322\n",
      "  [4] mapreduce_empty(#unused#::typeof(identity), op::Function, T::Type)\n",
      "    @ Base ./reduce.jl:345\n",
      "  [5] reduce_empty(op::Base.MappingRF{typeof(identity), typeof(Base.add_sum)}, #unused#::Type{Any})\n",
      "    @ Base ./reduce.jl:331\n",
      "  [6] reduce_empty_iter\n",
      "    @ ./reduce.jl:357 [inlined]\n",
      "  [7] mapreduce_empty_iter(f::Function, op::Function, itr::Vector{Any}, ItrEltype::Base.HasEltype)\n",
      "    @ Base ./reduce.jl:353\n",
      "  [8] _mapreduce(f::typeof(identity), op::typeof(Base.add_sum), #unused#::IndexLinear, A::Vector{Any})\n",
      "    @ Base ./reduce.jl:402\n",
      "  [9] _mapreduce_dim\n",
      "    @ ./reducedim.jl:330 [inlined]\n",
      " [10] #mapreduce#725\n",
      "    @ ./reducedim.jl:322 [inlined]\n",
      " [11] mapreduce\n",
      "    @ ./reducedim.jl:322 [inlined]\n",
      " [12] #_sum#735\n",
      "    @ ./reducedim.jl:894 [inlined]\n",
      " [13] _sum\n",
      "    @ ./reducedim.jl:894 [inlined]\n",
      " [14] #_sum#734\n",
      "    @ ./reducedim.jl:893 [inlined]\n",
      " [15] _sum\n",
      "    @ ./reducedim.jl:893 [inlined]\n",
      " [16] #sum#732\n",
      "    @ ./reducedim.jl:889 [inlined]\n",
      " [17] sum\n",
      "    @ ./reducedim.jl:889 [inlined]\n",
      " [18] #adjoint#626\n",
      "    @ ~/.julia/packages/Zygote/ytjqm/src/lib/array.jl:314 [inlined]\n",
      " [19] adjoint\n",
      "    @ ./none:0 [inlined]\n",
      " [20] _pullback(__context__::Zygote.Context, 551::typeof(sum), xs::Vector{Any})\n",
      "    @ Zygote ~/.julia/packages/ZygoteRules/AIbCs/src/adjoint.jl:65\n",
      " [21] _pullback\n",
      "    @ ~/.julia/packages/NeuralPDE/uTFIM/src/pinns_pde_solve.jl:1450 [inlined]\n",
      " [22] _pullback(::Zygote.Context, ::NeuralPDE.var\"#loss_function_#397\"{NeuralPDE.var\"#run_nonadaptive_loss#396\", Bool, Vector{Int64}, Int64, Nothing, NeuralPDE.var\"#298#300\"{FastChain{Tuple{FastDense{typeof(tanh_fast), DiffEqFlux.var\"#initial_params#94\"{Vector{Float32}}, Nothing}, FastDense{typeof(tanh_fast), DiffEqFlux.var\"#initial_params#94\"{Vector{Float32}}, Nothing}, FastDense{typeof(identity), DiffEqFlux.var\"#initial_params#94\"{Vector{Float32}}, Nothing}}}, UnionAll}, NonAdaptiveLoss{Float64}, Nothing, Bool, Nothing}, ::Vector{Float64}, ::SciMLBase.NullParameters)\n",
      "    @ Zygote ~/.julia/packages/Zygote/ytjqm/src/compiler/interface2.jl:0\n",
      " [23] _apply\n",
      "    @ ./boot.jl:814 [inlined]\n",
      " [24] adjoint\n",
      "    @ ~/.julia/packages/Zygote/ytjqm/src/lib/lib.jl:200 [inlined]\n",
      " [25] _pullback\n",
      "    @ ~/.julia/packages/ZygoteRules/AIbCs/src/adjoint.jl:65 [inlined]\n",
      " [26] _pullback\n",
      "    @ ~/.julia/packages/SciMLBase/GW7GW/src/problems/basic_problems.jl:109 [inlined]\n",
      " [27] _pullback(::Zygote.Context, ::OptimizationFunction{true, GalacticOptim.AutoZygote, NeuralPDE.var\"#loss_function_#397\"{NeuralPDE.var\"#run_nonadaptive_loss#396\", Bool, Vector{Int64}, Int64, Nothing, NeuralPDE.var\"#298#300\"{FastChain{Tuple{FastDense{typeof(tanh_fast), DiffEqFlux.var\"#initial_params#94\"{Vector{Float32}}, Nothing}, FastDense{typeof(tanh_fast), DiffEqFlux.var\"#initial_params#94\"{Vector{Float32}}, Nothing}, FastDense{typeof(identity), DiffEqFlux.var\"#initial_params#94\"{Vector{Float32}}, Nothing}}}, UnionAll}, NonAdaptiveLoss{Float64}, Nothing, Bool, Nothing}, Nothing, Nothing, Nothing, Nothing, Nothing, Nothing}, ::Vector{Float64}, ::SciMLBase.NullParameters)\n",
      "    @ Zygote ~/.julia/packages/Zygote/ytjqm/src/compiler/interface2.jl:0\n",
      " [28] _apply(::Function, ::Vararg{Any})\n",
      "    @ Core ./boot.jl:814\n",
      " [29] adjoint\n",
      "    @ ~/.julia/packages/Zygote/ytjqm/src/lib/lib.jl:200 [inlined]\n",
      " [30] _pullback\n",
      "    @ ~/.julia/packages/ZygoteRules/AIbCs/src/adjoint.jl:65 [inlined]\n",
      " [31] _pullback\n",
      "    @ ~/.julia/packages/GalacticOptim/fow0r/src/function/zygote.jl:6 [inlined]\n",
      " [32] _pullback(ctx::Zygote.Context, f::GalacticOptim.var\"#267#277\"{OptimizationFunction{true, GalacticOptim.AutoZygote, NeuralPDE.var\"#loss_function_#397\"{NeuralPDE.var\"#run_nonadaptive_loss#396\", Bool, Vector{Int64}, Int64, Nothing, NeuralPDE.var\"#298#300\"{FastChain{Tuple{FastDense{typeof(tanh_fast), DiffEqFlux.var\"#initial_params#94\"{Vector{Float32}}, Nothing}, FastDense{typeof(tanh_fast), DiffEqFlux.var\"#initial_params#94\"{Vector{Float32}}, Nothing}, FastDense{typeof(identity), DiffEqFlux.var\"#initial_params#94\"{Vector{Float32}}, Nothing}}}, UnionAll}, NonAdaptiveLoss{Float64}, Nothing, Bool, Nothing}, Nothing, Nothing, Nothing, Nothing, Nothing, Nothing}, SciMLBase.NullParameters}, args::Vector{Float64})\n",
      "    @ Zygote ~/.julia/packages/Zygote/ytjqm/src/compiler/interface2.jl:0\n",
      " [33] _apply(::Function, ::Vararg{Any})\n",
      "    @ Core ./boot.jl:814\n",
      " [34] adjoint\n",
      "    @ ~/.julia/packages/Zygote/ytjqm/src/lib/lib.jl:200 [inlined]\n",
      " [35] _pullback\n",
      "    @ ~/.julia/packages/ZygoteRules/AIbCs/src/adjoint.jl:65 [inlined]\n",
      " [36] _pullback\n",
      "    @ ~/.julia/packages/GalacticOptim/fow0r/src/function/zygote.jl:8 [inlined]\n",
      " [37] _pullback(ctx::Zygote.Context, f::GalacticOptim.var\"#270#280\"{Tuple{}, GalacticOptim.var\"#267#277\"{OptimizationFunction{true, GalacticOptim.AutoZygote, NeuralPDE.var\"#loss_function_#397\"{NeuralPDE.var\"#run_nonadaptive_loss#396\", Bool, Vector{Int64}, Int64, Nothing, NeuralPDE.var\"#298#300\"{FastChain{Tuple{FastDense{typeof(tanh_fast), DiffEqFlux.var\"#initial_params#94\"{Vector{Float32}}, Nothing}, FastDense{typeof(tanh_fast), DiffEqFlux.var\"#initial_params#94\"{Vector{Float32}}, Nothing}, FastDense{typeof(identity), DiffEqFlux.var\"#initial_params#94\"{Vector{Float32}}, Nothing}}}, UnionAll}, NonAdaptiveLoss{Float64}, Nothing, Bool, Nothing}, Nothing, Nothing, Nothing, Nothing, Nothing, Nothing}, SciMLBase.NullParameters}}, args::Vector{Float64})\n",
      "    @ Zygote ~/.julia/packages/Zygote/ytjqm/src/compiler/interface2.jl:0\n",
      " [38] _pullback(f::Function, args::Vector{Float64})\n",
      "    @ Zygote ~/.julia/packages/Zygote/ytjqm/src/compiler/interface.jl:34\n",
      " [39] pullback(f::Function, args::Vector{Float64})\n",
      "    @ Zygote ~/.julia/packages/Zygote/ytjqm/src/compiler/interface.jl:40\n",
      " [40] gradient(f::Function, args::Vector{Float64})\n",
      "    @ Zygote ~/.julia/packages/Zygote/ytjqm/src/compiler/interface.jl:75\n",
      " [41] (::GalacticOptim.var\"#268#278\"{GalacticOptim.var\"#267#277\"{OptimizationFunction{true, GalacticOptim.AutoZygote, NeuralPDE.var\"#loss_function_#397\"{NeuralPDE.var\"#run_nonadaptive_loss#396\", Bool, Vector{Int64}, Int64, Nothing, NeuralPDE.var\"#298#300\"{FastChain{Tuple{FastDense{typeof(tanh_fast), DiffEqFlux.var\"#initial_params#94\"{Vector{Float32}}, Nothing}, FastDense{typeof(tanh_fast), DiffEqFlux.var\"#initial_params#94\"{Vector{Float32}}, Nothing}, FastDense{typeof(identity), DiffEqFlux.var\"#initial_params#94\"{Vector{Float32}}, Nothing}}}, UnionAll}, NonAdaptiveLoss{Float64}, Nothing, Bool, Nothing}, Nothing, Nothing, Nothing, Nothing, Nothing, Nothing}, SciMLBase.NullParameters}})(::Vector{Float64}, ::Vector{Float64})\n",
      "    @ GalacticOptim ~/.julia/packages/GalacticOptim/fow0r/src/function/zygote.jl:8\n",
      " [42] (::GalacticOptim.var\"#144#152\"{OptimizationProblem{true, OptimizationFunction{true, GalacticOptim.AutoZygote, NeuralPDE.var\"#loss_function_#397\"{NeuralPDE.var\"#run_nonadaptive_loss#396\", Bool, Vector{Int64}, Int64, Nothing, NeuralPDE.var\"#298#300\"{FastChain{Tuple{FastDense{typeof(tanh_fast), DiffEqFlux.var\"#initial_params#94\"{Vector{Float32}}, Nothing}, FastDense{typeof(tanh_fast), DiffEqFlux.var\"#initial_params#94\"{Vector{Float32}}, Nothing}, FastDense{typeof(identity), DiffEqFlux.var\"#initial_params#94\"{Vector{Float32}}, Nothing}}}, UnionAll}, NonAdaptiveLoss{Float64}, Nothing, Bool, Nothing}, Nothing, Nothing, Nothing, Nothing, Nothing, Nothing}, Vector{Float64}, SciMLBase.NullParameters, Nothing, Nothing, Nothing, Nothing, Base.Pairs{Symbol, Union{}, Tuple{}, NamedTuple{(), Tuple{}}}}, GalacticOptim.var\"#143#151\"{OptimizationProblem{true, OptimizationFunction{true, GalacticOptim.AutoZygote, NeuralPDE.var\"#loss_function_#397\"{NeuralPDE.var\"#run_nonadaptive_loss#396\", Bool, Vector{Int64}, Int64, Nothing, NeuralPDE.var\"#298#300\"{FastChain{Tuple{FastDense{typeof(tanh_fast), DiffEqFlux.var\"#initial_params#94\"{Vector{Float32}}, Nothing}, FastDense{typeof(tanh_fast), DiffEqFlux.var\"#initial_params#94\"{Vector{Float32}}, Nothing}, FastDense{typeof(identity), DiffEqFlux.var\"#initial_params#94\"{Vector{Float32}}, Nothing}}}, UnionAll}, NonAdaptiveLoss{Float64}, Nothing, Bool, Nothing}, Nothing, Nothing, Nothing, Nothing, Nothing, Nothing}, Vector{Float64}, SciMLBase.NullParameters, Nothing, Nothing, Nothing, Nothing, Base.Pairs{Symbol, Union{}, Tuple{}, NamedTuple{(), Tuple{}}}}, OptimizationFunction{false, GalacticOptim.AutoZygote, OptimizationFunction{true, GalacticOptim.AutoZygote, NeuralPDE.var\"#loss_function_#397\"{NeuralPDE.var\"#run_nonadaptive_loss#396\", Bool, Vector{Int64}, Int64, Nothing, NeuralPDE.var\"#298#300\"{FastChain{Tuple{FastDense{typeof(tanh_fast), DiffEqFlux.var\"#initial_params#94\"{Vector{Float32}}, Nothing}, FastDense{typeof(tanh_fast), DiffEqFlux.var\"#initial_params#94\"{Vector{Float32}}, Nothing}, FastDense{typeof(identity), DiffEqFlux.var\"#initial_params#94\"{Vector{Float32}}, Nothing}}}, UnionAll}, NonAdaptiveLoss{Float64}, Nothing, Bool, Nothing}, Nothing, Nothing, Nothing, Nothing, Nothing, Nothing}, GalacticOptim.var\"#268#278\"{GalacticOptim.var\"#267#277\"{OptimizationFunction{true, GalacticOptim.AutoZygote, NeuralPDE.var\"#loss_function_#397\"{NeuralPDE.var\"#run_nonadaptive_loss#396\", Bool, Vector{Int64}, Int64, Nothing, NeuralPDE.var\"#298#300\"{FastChain{Tuple{FastDense{typeof(tanh_fast), DiffEqFlux.var\"#initial_params#94\"{Vector{Float32}}, Nothing}, FastDense{typeof(tanh_fast), DiffEqFlux.var\"#initial_params#94\"{Vector{Float32}}, Nothing}, FastDense{typeof(identity), DiffEqFlux.var\"#initial_params#94\"{Vector{Float32}}, Nothing}}}, UnionAll}, NonAdaptiveLoss{Float64}, Nothing, Bool, Nothing}, Nothing, Nothing, Nothing, Nothing, Nothing, Nothing}, SciMLBase.NullParameters}}, GalacticOptim.var\"#271#281\"{GalacticOptim.var\"#267#277\"{OptimizationFunction{true, GalacticOptim.AutoZygote, NeuralPDE.var\"#loss_function_#397\"{NeuralPDE.var\"#run_nonadaptive_loss#396\", Bool, Vector{Int64}, Int64, Nothing, NeuralPDE.var\"#298#300\"{FastChain{Tuple{FastDense{typeof(tanh_fast), DiffEqFlux.var\"#initial_params#94\"{Vector{Float32}}, Nothing}, FastDense{typeof(tanh_fast), DiffEqFlux.var\"#initial_params#94\"{Vector{Float32}}, Nothing}, FastDense{typeof(identity), DiffEqFlux.var\"#initial_params#94\"{Vector{Float32}}, Nothing}}}, UnionAll}, NonAdaptiveLoss{Float64}, Nothing, Bool, Nothing}, Nothing, Nothing, Nothing, Nothing, Nothing, Nothing}, SciMLBase.NullParameters}}, GalacticOptim.var\"#276#286\", Nothing, Nothing, Nothing}}, OptimizationFunction{false, GalacticOptim.AutoZygote, OptimizationFunction{true, GalacticOptim.AutoZygote, NeuralPDE.var\"#loss_function_#397\"{NeuralPDE.var\"#run_nonadaptive_loss#396\", Bool, Vector{Int64}, Int64, Nothing, NeuralPDE.var\"#298#300\"{FastChain{Tuple{FastDense{typeof(tanh_fast), DiffEqFlux.var\"#initial_params#94\"{Vector{Float32}}, Nothing}, FastDense{typeof(tanh_fast), DiffEqFlux.var\"#initial_params#94\"{Vector{Float32}}, Nothing}, FastDense{typeof(identity), DiffEqFlux.var\"#initial_params#94\"{Vector{Float32}}, Nothing}}}, UnionAll}, NonAdaptiveLoss{Float64}, Nothing, Bool, Nothing}, Nothing, Nothing, Nothing, Nothing, Nothing, Nothing}, GalacticOptim.var\"#268#278\"{GalacticOptim.var\"#267#277\"{OptimizationFunction{true, GalacticOptim.AutoZygote, NeuralPDE.var\"#loss_function_#397\"{NeuralPDE.var\"#run_nonadaptive_loss#396\", Bool, Vector{Int64}, Int64, Nothing, NeuralPDE.var\"#298#300\"{FastChain{Tuple{FastDense{typeof(tanh_fast), DiffEqFlux.var\"#initial_params#94\"{Vector{Float32}}, Nothing}, FastDense{typeof(tanh_fast), DiffEqFlux.var\"#initial_params#94\"{Vector{Float32}}, Nothing}, FastDense{typeof(identity), DiffEqFlux.var\"#initial_params#94\"{Vector{Float32}}, Nothing}}}, UnionAll}, NonAdaptiveLoss{Float64}, Nothing, Bool, Nothing}, Nothing, Nothing, Nothing, Nothing, Nothing, Nothing}, SciMLBase.NullParameters}}, GalacticOptim.var\"#271#281\"{GalacticOptim.var\"#267#277\"{OptimizationFunction{true, GalacticOptim.AutoZygote, NeuralPDE.var\"#loss_function_#397\"{NeuralPDE.var\"#run_nonadaptive_loss#396\", Bool, Vector{Int64}, Int64, Nothing, NeuralPDE.var\"#298#300\"{FastChain{Tuple{FastDense{typeof(tanh_fast), DiffEqFlux.var\"#initial_params#94\"{Vector{Float32}}, Nothing}, FastDense{typeof(tanh_fast), DiffEqFlux.var\"#initial_params#94\"{Vector{Float32}}, Nothing}, FastDense{typeof(identity), DiffEqFlux.var\"#initial_params#94\"{Vector{Float32}}, Nothing}}}, UnionAll}, NonAdaptiveLoss{Float64}, Nothing, Bool, Nothing}, Nothing, Nothing, Nothing, Nothing, Nothing, Nothing}, SciMLBase.NullParameters}}, GalacticOptim.var\"#276#286\", Nothing, Nothing, Nothing}})(G::Vector{Float64}, θ::Vector{Float64})\n",
      "    @ GalacticOptim ~/.julia/packages/GalacticOptim/fow0r/src/solve/optim.jl:93\n",
      " [43] value_gradient!!(obj::TwiceDifferentiable{Float64, Vector{Float64}, Matrix{Float64}, Vector{Float64}}, x::Vector{Float64})\n",
      "    @ NLSolversBase ~/.julia/packages/NLSolversBase/cfJrN/src/interface.jl:82\n",
      " [44] initial_state(method::BFGS{LineSearches.InitialStatic{Float64}, LineSearches.HagerZhang{Float64, Base.RefValue{Bool}}, Nothing, Nothing, Flat}, options::Optim.Options{Float64, GalacticOptim.var\"#_cb#150\"{var\"#13#14\", BFGS{LineSearches.InitialStatic{Float64}, LineSearches.HagerZhang{Float64, Base.RefValue{Bool}}, Nothing, Nothing, Flat}, Base.Iterators.Cycle{Tuple{GalacticOptim.NullData}}}}, d::TwiceDifferentiable{Float64, Vector{Float64}, Matrix{Float64}, Vector{Float64}}, initial_x::Vector{Float64})\n",
      "    @ Optim ~/.julia/packages/Optim/wFOeG/src/multivariate/solvers/first_order/bfgs.jl:94\n",
      " [45] optimize(d::TwiceDifferentiable{Float64, Vector{Float64}, Matrix{Float64}, Vector{Float64}}, initial_x::Vector{Float64}, method::BFGS{LineSearches.InitialStatic{Float64}, LineSearches.HagerZhang{Float64, Base.RefValue{Bool}}, Nothing, Nothing, Flat}, options::Optim.Options{Float64, GalacticOptim.var\"#_cb#150\"{var\"#13#14\", BFGS{LineSearches.InitialStatic{Float64}, LineSearches.HagerZhang{Float64, Base.RefValue{Bool}}, Nothing, Nothing, Flat}, Base.Iterators.Cycle{Tuple{GalacticOptim.NullData}}}})\n",
      "    @ Optim ~/.julia/packages/Optim/wFOeG/src/multivariate/optimize/optimize.jl:36\n",
      " [46] ___solve(prob::OptimizationProblem{true, OptimizationFunction{true, GalacticOptim.AutoZygote, NeuralPDE.var\"#loss_function_#397\"{NeuralPDE.var\"#run_nonadaptive_loss#396\", Bool, Vector{Int64}, Int64, Nothing, NeuralPDE.var\"#298#300\"{FastChain{Tuple{FastDense{typeof(tanh_fast), DiffEqFlux.var\"#initial_params#94\"{Vector{Float32}}, Nothing}, FastDense{typeof(tanh_fast), DiffEqFlux.var\"#initial_params#94\"{Vector{Float32}}, Nothing}, FastDense{typeof(identity), DiffEqFlux.var\"#initial_params#94\"{Vector{Float32}}, Nothing}}}, UnionAll}, NonAdaptiveLoss{Float64}, Nothing, Bool, Nothing}, Nothing, Nothing, Nothing, Nothing, Nothing, Nothing}, Vector{Float64}, SciMLBase.NullParameters, Nothing, Nothing, Nothing, Nothing, Base.Pairs{Symbol, Union{}, Tuple{}, NamedTuple{(), Tuple{}}}}, opt::BFGS{LineSearches.InitialStatic{Float64}, LineSearches.HagerZhang{Float64, Base.RefValue{Bool}}, Nothing, Nothing, Flat}, data::Base.Iterators.Cycle{Tuple{GalacticOptim.NullData}}; cb::Function, maxiters::Int64, maxtime::Nothing, abstol::Nothing, reltol::Nothing, progress::Bool, kwargs::Base.Pairs{Symbol, Union{}, Tuple{}, NamedTuple{(), Tuple{}}})\n",
      "    @ GalacticOptim ~/.julia/packages/GalacticOptim/fow0r/src/solve/optim.jl:129\n",
      " [47] #__solve#141\n",
      "    @ ~/.julia/packages/GalacticOptim/fow0r/src/solve/optim.jl:49 [inlined]\n",
      " [48] #solve#480\n",
      "    @ ~/.julia/packages/SciMLBase/GW7GW/src/solve.jl:3 [inlined]\n",
      " [49] top-level scope\n",
      "    @ ~/julia_projects/neural_lyapunov/damped_harmonic_oscillator.ipynb:1\n",
      " [50] eval\n",
      "    @ ./boot.jl:373 [inlined]\n",
      " [51] include_string(mapexpr::typeof(REPL.softscope), mod::Module, code::String, filename::String)\n",
      "    @ Base ./loading.jl:1196\n",
      " [52] #invokelatest#2\n",
      "    @ ./essentials.jl:716 [inlined]\n",
      " [53] invokelatest\n",
      "    @ ./essentials.jl:714 [inlined]\n",
      " [54] (::VSCodeServer.var\"#164#165\"{VSCodeServer.NotebookRunCellArguments, String})()\n",
      "    @ VSCodeServer ~/.vscode-server/extensions/julialang.language-julia-1.6.17/scripts/packages/VSCodeServer/src/serve_notebook.jl:19\n",
      " [55] withpath(f::VSCodeServer.var\"#164#165\"{VSCodeServer.NotebookRunCellArguments, String}, path::String)\n",
      "    @ VSCodeServer ~/.vscode-server/extensions/julialang.language-julia-1.6.17/scripts/packages/VSCodeServer/src/repl.jl:184\n",
      " [56] notebook_runcell_request(conn::VSCodeServer.JSONRPC.JSONRPCEndpoint{Base.PipeEndpoint, Base.PipeEndpoint}, params::VSCodeServer.NotebookRunCellArguments)\n",
      "    @ VSCodeServer ~/.vscode-server/extensions/julialang.language-julia-1.6.17/scripts/packages/VSCodeServer/src/serve_notebook.jl:13\n",
      " [57] dispatch_msg(x::VSCodeServer.JSONRPC.JSONRPCEndpoint{Base.PipeEndpoint, Base.PipeEndpoint}, dispatcher::VSCodeServer.JSONRPC.MsgDispatcher, msg::Dict{String, Any})\n",
      "    @ VSCodeServer.JSONRPC ~/.vscode-server/extensions/julialang.language-julia-1.6.17/scripts/packages/JSONRPC/src/typed.jl:67\n",
      " [58] serve_notebook(pipename::String, outputchannel_logger::Base.CoreLogging.SimpleLogger; crashreporting_pipename::String)\n",
      "    @ VSCodeServer ~/.vscode-server/extensions/julialang.language-julia-1.6.17/scripts/packages/VSCodeServer/src/serve_notebook.jl:136\n",
      " [59] top-level scope\n",
      "    @ ~/.vscode-server/extensions/julialang.language-julia-1.6.17/scripts/notebook/notebook.jl:32\n",
      " [60] include(mod::Module, _path::String)\n",
      "    @ Base ./Base.jl:418\n",
      " [61] exec_options(opts::Base.JLOptions)\n",
      "    @ Base ./client.jl:292"
     ]
    }
   ],
   "source": [
    "res = GalacticOptim.solve(prob, opt, cb=cb, maxiters=1000)\n",
    "phi = discretization.phi"
   ]
  }
 ],
 "metadata": {
  "kernelspec": {
   "display_name": "Julia 1.7.1",
   "language": "julia",
   "name": "julia-1.7"
  },
  "language_info": {
   "file_extension": ".jl",
   "mimetype": "application/julia",
   "name": "julia",
   "version": "1.7.1"
  },
  "orig_nbformat": 4
 },
 "nbformat": 4,
 "nbformat_minor": 2
}
