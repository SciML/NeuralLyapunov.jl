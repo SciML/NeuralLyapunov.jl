{
 "cells": [
  {
   "cell_type": "markdown",
   "metadata": {},
   "source": [
    "First, let's try to just simulate a pendulum.\n",
    "A simple pendulum of mass $m$ on a string of length $l$ with a gravitational acceleration of $g$ and drag coefficient $b$ has an angle from vertical given by:\n",
    "$$ m l^2 \\ddot{\\theta} = -mg \\sin( \\theta ) - b \\dot{\\theta}, $$\n",
    "or, equivalently\n",
    "$$ \\ddot{\\theta} + 2 \\zeta \\omega_0 \\dot{\\theta} + \\omega_0^2 \\sin(\\theta) = 0. $$"
   ]
  },
  {
   "cell_type": "code",
   "execution_count": null,
   "metadata": {},
   "outputs": [],
   "source": [
    "using ModelingToolkit\n"
   ]
  }
 ],
 "metadata": {
  "kernelspec": {
   "display_name": "Julia 1.7.1",
   "language": "julia",
   "name": "julia-1.7"
  },
  "language_info": {
   "file_extension": ".jl",
   "mimetype": "application/julia",
   "name": "julia",
   "version": "1.7.1"
  },
  "orig_nbformat": 4
 },
 "nbformat": 4,
 "nbformat_minor": 2
}
